{
 "cells": [
  {
   "cell_type": "markdown",
   "id": "297b3b6a-7d58-448e-a2a6-9ca983b25faf",
   "metadata": {},
   "source": [
    "# Sentiment prediction with self-attention"
   ]
  },
  {
   "cell_type": "code",
   "execution_count": 27,
   "id": "e03c6186-e632-462f-81d9-27df9d635a23",
   "metadata": {},
   "outputs": [
    {
     "data": {
      "text/plain": [
       "device(type='cpu')"
      ]
     },
     "execution_count": 27,
     "metadata": {},
     "output_type": "execute_result"
    }
   ],
   "source": [
    "import pandas as pd\n",
    "import numpy as np\n",
    "import math\n",
    "import torch\n",
    "import torch.nn as nn\n",
    "from torch.utils.data import Dataset, DataLoader, TensorDataset\n",
    "from torch.nn.utils.rnn import pad_sequence\n",
    "import torch.nn.functional as F\n",
    "from sklearn.metrics import accuracy_score\n",
    "import matplotlib.pyplot as plt\n",
    "from sklearn.model_selection import train_test_split\n",
    "from sklearn.ensemble import RandomForestClassifier\n",
    "from sklearn.metrics import confusion_matrix, precision_score, \\\n",
    "                            recall_score, log_loss\n",
    "np.set_printoptions(precision=2, suppress=True, linewidth=3000, threshold=20000)\n",
    "from typing import Sequence\n",
    "import nltk\n",
    "from nltk.corpus import stopwords\n",
    "import re\n",
    "import string\n",
    "import time\n",
    "import csv\n",
    "import tsensor\n",
    "\n",
    "dtype = torch.float\n",
    "device = torch.device('cuda:0' if torch.cuda.is_available() else 'cpu')\n",
    "device"
   ]
  },
  {
   "cell_type": "markdown",
   "id": "362da4a7-e44c-4b06-a43a-945568708d09",
   "metadata": {},
   "source": [
    "## Support code"
   ]
  },
  {
   "cell_type": "code",
   "execution_count": 112,
   "id": "f55e13c2-8fe8-47a5-b458-3610980affdd",
   "metadata": {},
   "outputs": [],
   "source": [
    "def plot_loss(history, ax=None, maxy=None, file=None):\n",
    "    if ax is None:\n",
    "        fig, ax = plt.subplots(1,1, figsize=(3.5,3))\n",
    "    ax.set_ylabel(\"Loss\")\n",
    "    ax.set_xlabel(\"Epochs\")\n",
    "    loss = history[:,0]\n",
    "    val_loss = history[:,1]\n",
    "    if maxy:\n",
    "        ax.set_ylim(0,maxy)\n",
    "    else:\n",
    "        ax.set_ylim(0,torch.max(val_loss))\n",
    "    ax.spines['top'].set_visible(False)    # turns off the top \"spine\" completely\n",
    "    ax.spines['right'].set_visible(False)\n",
    "    ax.spines['left'].set_linewidth(.5)\n",
    "    ax.spines['bottom'].set_linewidth(.5)\n",
    "    ax.plot(loss, label='train_loss')\n",
    "    ax.plot(val_loss, label='val_loss')\n",
    "    ax.legend(loc='upper right')\n",
    "    plt.tight_layout()\n",
    "    if file:\n",
    "        plt.savefig(f\"/Users/{os.environ['USER']}/Desktop/{file}.pdf\")\n",
    "\n",
    "def plot_accur(history, ax=None, file=None):\n",
    "    if ax is None:\n",
    "        fig, ax = plt.subplots(1,1, figsize=(3.5,3))\n",
    "    ax.set_ylabel(\"Accuracy\")\n",
    "    ax.set_xlabel(\"Epochs\")\n",
    "    accur = history[:,2]\n",
    "    val_accur = history[:,3]\n",
    "    ax.set_ylim(0,1.05)\n",
    "    ax.plot(accur, label='accur')\n",
    "    ax.plot(val_accur, label='val_accur')\n",
    "    ax.spines['top'].set_visible(False)    # turns off the top \"spine\" completely\n",
    "    ax.spines['right'].set_visible(False)\n",
    "    ax.spines['left'].set_linewidth(.5)\n",
    "    ax.spines['bottom'].set_linewidth(.5)\n",
    "    ax.legend(loc='lower right')\n",
    "    plt.tight_layout()\n",
    "    if file:\n",
    "        plt.savefig(f\"/Users/{os.environ['USER']}/Desktop/{file}.pdf\") "
   ]
  },
  {
   "cell_type": "markdown",
   "id": "b212e5bd-9a0a-400c-8665-7090852170f9",
   "metadata": {},
   "source": [
    "## Load glove"
   ]
  },
  {
   "cell_type": "code",
   "execution_count": 2,
   "id": "46da9053-e133-40d4-be78-85a77a8b5ea1",
   "metadata": {},
   "outputs": [],
   "source": [
    "glovefile = '/Users/parrt/data/glove/glove.6B.50d.txt'"
   ]
  },
  {
   "cell_type": "code",
   "execution_count": 3,
   "id": "de79f526-6af8-4da6-b0a2-228bfba5b512",
   "metadata": {},
   "outputs": [
    {
     "name": "stdout",
     "output_type": "stream",
     "text": [
      "CPU times: user 2.49 s, sys: 205 ms, total: 2.69 s\n",
      "Wall time: 2.73 s\n"
     ]
    },
    {
     "data": {
      "text/html": [
       "<div>\n",
       "<style scoped>\n",
       "    .dataframe tbody tr th:only-of-type {\n",
       "        vertical-align: middle;\n",
       "    }\n",
       "\n",
       "    .dataframe tbody tr th {\n",
       "        vertical-align: top;\n",
       "    }\n",
       "\n",
       "    .dataframe thead th {\n",
       "        text-align: right;\n",
       "    }\n",
       "</style>\n",
       "<table border=\"1\" class=\"dataframe\">\n",
       "  <thead>\n",
       "    <tr style=\"text-align: right;\">\n",
       "      <th></th>\n",
       "      <th>0</th>\n",
       "      <th>1</th>\n",
       "      <th>2</th>\n",
       "      <th>3</th>\n",
       "      <th>4</th>\n",
       "      <th>5</th>\n",
       "      <th>6</th>\n",
       "      <th>7</th>\n",
       "      <th>8</th>\n",
       "      <th>9</th>\n",
       "      <th>...</th>\n",
       "      <th>41</th>\n",
       "      <th>42</th>\n",
       "      <th>43</th>\n",
       "      <th>44</th>\n",
       "      <th>45</th>\n",
       "      <th>46</th>\n",
       "      <th>47</th>\n",
       "      <th>48</th>\n",
       "      <th>49</th>\n",
       "      <th>50</th>\n",
       "    </tr>\n",
       "  </thead>\n",
       "  <tbody>\n",
       "    <tr>\n",
       "      <th>0</th>\n",
       "      <td>the</td>\n",
       "      <td>0.418000</td>\n",
       "      <td>0.24968</td>\n",
       "      <td>-0.41242</td>\n",
       "      <td>0.12170</td>\n",
       "      <td>0.34527</td>\n",
       "      <td>-0.044457</td>\n",
       "      <td>-0.49688</td>\n",
       "      <td>-0.17862</td>\n",
       "      <td>-0.00066</td>\n",
       "      <td>...</td>\n",
       "      <td>-0.298710</td>\n",
       "      <td>-0.15749</td>\n",
       "      <td>-0.34758</td>\n",
       "      <td>-0.045637</td>\n",
       "      <td>-0.44251</td>\n",
       "      <td>0.18785</td>\n",
       "      <td>0.002785</td>\n",
       "      <td>-0.18411</td>\n",
       "      <td>-0.115140</td>\n",
       "      <td>-0.78581</td>\n",
       "    </tr>\n",
       "    <tr>\n",
       "      <th>1</th>\n",
       "      <td>,</td>\n",
       "      <td>0.013441</td>\n",
       "      <td>0.23682</td>\n",
       "      <td>-0.16899</td>\n",
       "      <td>0.40951</td>\n",
       "      <td>0.63812</td>\n",
       "      <td>0.477090</td>\n",
       "      <td>-0.42852</td>\n",
       "      <td>-0.55641</td>\n",
       "      <td>-0.36400</td>\n",
       "      <td>...</td>\n",
       "      <td>-0.080262</td>\n",
       "      <td>0.63003</td>\n",
       "      <td>0.32111</td>\n",
       "      <td>-0.467650</td>\n",
       "      <td>0.22786</td>\n",
       "      <td>0.36034</td>\n",
       "      <td>-0.378180</td>\n",
       "      <td>-0.56657</td>\n",
       "      <td>0.044691</td>\n",
       "      <td>0.30392</td>\n",
       "    </tr>\n",
       "  </tbody>\n",
       "</table>\n",
       "<p>2 rows × 51 columns</p>\n",
       "</div>"
      ],
      "text/plain": [
       "    0         1        2        3        4        5         6        7   \\\n",
       "0  the  0.418000  0.24968 -0.41242  0.12170  0.34527 -0.044457 -0.49688   \n",
       "1    ,  0.013441  0.23682 -0.16899  0.40951  0.63812  0.477090 -0.42852   \n",
       "\n",
       "        8        9   ...        41       42       43        44       45  \\\n",
       "0 -0.17862 -0.00066  ... -0.298710 -0.15749 -0.34758 -0.045637 -0.44251   \n",
       "1 -0.55641 -0.36400  ... -0.080262  0.63003  0.32111 -0.467650  0.22786   \n",
       "\n",
       "        46        47       48        49       50  \n",
       "0  0.18785  0.002785 -0.18411 -0.115140 -0.78581  \n",
       "1  0.36034 -0.378180 -0.56657  0.044691  0.30392  \n",
       "\n",
       "[2 rows x 51 columns]"
      ]
     },
     "execution_count": 3,
     "metadata": {},
     "output_type": "execute_result"
    }
   ],
   "source": [
    "%time df_glove = pd.read_csv(glovefile, delimiter=\" \", header=None, quoting=csv.QUOTE_NONE, na_filter=False)\n",
    "df_glove.head(2)"
   ]
  },
  {
   "cell_type": "code",
   "execution_count": 4,
   "id": "c31d1764-1f94-47e2-b678-c9f476b789b7",
   "metadata": {},
   "outputs": [],
   "source": [
    "def load_glove(df_glove):\n",
    "    itow = [None] + list(df_glove.iloc[:,0].values) # map word index to word; index 0 for unknown word\n",
    "    wtoi = {w:i for i,w in enumerate(itow)}         # map word to word index; 0 is invalid, 1 is first valid index\n",
    "    vocab = set(itow)\n",
    "\n",
    "    glove = df_glove.iloc[:,1:].values              # row glove[i,:] is word vector for word index i\n",
    "    glove = np.insert(glove, 0, values=0, axis=0)   # make sure row 0 is for invalid / unknown / missing word\n",
    "    return itow, wtoi, vocab, glove"
   ]
  },
  {
   "cell_type": "code",
   "execution_count": 5,
   "id": "0b48bd62-9d32-4ef8-8a29-8bd98813d0f1",
   "metadata": {},
   "outputs": [
    {
     "data": {
      "text/plain": [
       "array([[ 0.  ,  0.  ,  0.  ,  0.  ,  0.  ,  0.  ,  0.  ,  0.  ,  0.  ,  0.  ],\n",
       "       [ 0.42,  0.25, -0.41,  0.12,  0.35, -0.04, -0.5 , -0.18, -0.  , -0.66],\n",
       "       [ 0.01,  0.24, -0.17,  0.41,  0.64,  0.48, -0.43, -0.56, -0.36, -0.24],\n",
       "       [ 0.15,  0.3 , -0.17,  0.18,  0.32,  0.34, -0.43, -0.31, -0.45, -0.29]])"
      ]
     },
     "execution_count": 5,
     "metadata": {},
     "output_type": "execute_result"
    }
   ],
   "source": [
    "itow, wtoi, vocab, glove = load_glove(df_glove)\n",
    "glove[0:4,0:10]"
   ]
  },
  {
   "cell_type": "code",
   "execution_count": 6,
   "id": "452195e2-7ff0-49d9-ba23-4750228dc078",
   "metadata": {},
   "outputs": [
    {
     "data": {
      "text/plain": [
       "50"
      ]
     },
     "execution_count": 6,
     "metadata": {},
     "output_type": "execute_result"
    }
   ],
   "source": [
    "d = glove.shape[1] # word vec len\n",
    "d"
   ]
  },
  {
   "cell_type": "markdown",
   "id": "925772c6-5d18-41c6-bca5-25b16632f109",
   "metadata": {},
   "source": [
    "## Load tweets"
   ]
  },
  {
   "cell_type": "code",
   "execution_count": 7,
   "id": "820d3e90-edef-4d45-8e27-f38f14b2dc89",
   "metadata": {},
   "outputs": [
    {
     "data": {
      "text/html": [
       "<div>\n",
       "<style scoped>\n",
       "    .dataframe tbody tr th:only-of-type {\n",
       "        vertical-align: middle;\n",
       "    }\n",
       "\n",
       "    .dataframe tbody tr th {\n",
       "        vertical-align: top;\n",
       "    }\n",
       "\n",
       "    .dataframe thead th {\n",
       "        text-align: right;\n",
       "    }\n",
       "</style>\n",
       "<table border=\"1\" class=\"dataframe\">\n",
       "  <thead>\n",
       "    <tr style=\"text-align: right;\">\n",
       "      <th></th>\n",
       "      <th>text</th>\n",
       "      <th>sentiment</th>\n",
       "    </tr>\n",
       "  </thead>\n",
       "  <tbody>\n",
       "    <tr>\n",
       "      <th>0</th>\n",
       "      <td>@VirginAmerica What @dhepburn said.</td>\n",
       "      <td>1</td>\n",
       "    </tr>\n",
       "    <tr>\n",
       "      <th>1</th>\n",
       "      <td>@VirginAmerica plus you've added commercials t...</td>\n",
       "      <td>2</td>\n",
       "    </tr>\n",
       "    <tr>\n",
       "      <th>2</th>\n",
       "      <td>@VirginAmerica I didn't today... Must mean I n...</td>\n",
       "      <td>1</td>\n",
       "    </tr>\n",
       "    <tr>\n",
       "      <th>3</th>\n",
       "      <td>@VirginAmerica it's really aggressive to blast...</td>\n",
       "      <td>0</td>\n",
       "    </tr>\n",
       "    <tr>\n",
       "      <th>4</th>\n",
       "      <td>@VirginAmerica and it's a really big bad thing...</td>\n",
       "      <td>0</td>\n",
       "    </tr>\n",
       "  </tbody>\n",
       "</table>\n",
       "</div>"
      ],
      "text/plain": [
       "                                                text  sentiment\n",
       "0                @VirginAmerica What @dhepburn said.          1\n",
       "1  @VirginAmerica plus you've added commercials t...          2\n",
       "2  @VirginAmerica I didn't today... Must mean I n...          1\n",
       "3  @VirginAmerica it's really aggressive to blast...          0\n",
       "4  @VirginAmerica and it's a really big bad thing...          0"
      ]
     },
     "execution_count": 7,
     "metadata": {},
     "output_type": "execute_result"
    }
   ],
   "source": [
    "df_tweets = pd.read_csv(\"/Users/parrt/data/airline-tweets.csv\")\n",
    "df_tweets = df_tweets[['text','airline_sentiment']]\n",
    "df_tweets.columns = ['text','sentiment']\n",
    "df_tweets['sentiment'] = df_tweets['sentiment'].map({'negative':0, 'neutral':1, 'positive':2})\n",
    "df_tweets.head()"
   ]
  },
  {
   "cell_type": "code",
   "execution_count": 8,
   "id": "f694c808-4f4a-4a19-b09d-95581d2741e3",
   "metadata": {},
   "outputs": [
    {
     "data": {
      "text/html": [
       "<div>\n",
       "<style scoped>\n",
       "    .dataframe tbody tr th:only-of-type {\n",
       "        vertical-align: middle;\n",
       "    }\n",
       "\n",
       "    .dataframe tbody tr th {\n",
       "        vertical-align: top;\n",
       "    }\n",
       "\n",
       "    .dataframe thead th {\n",
       "        text-align: right;\n",
       "    }\n",
       "</style>\n",
       "<table border=\"1\" class=\"dataframe\">\n",
       "  <thead>\n",
       "    <tr style=\"text-align: right;\">\n",
       "      <th></th>\n",
       "      <th>text</th>\n",
       "      <th>sentiment</th>\n",
       "    </tr>\n",
       "  </thead>\n",
       "  <tbody>\n",
       "    <tr>\n",
       "      <th>0</th>\n",
       "      <td>what said.</td>\n",
       "      <td>1</td>\n",
       "    </tr>\n",
       "    <tr>\n",
       "      <th>1</th>\n",
       "      <td>plus added commercials to the</td>\n",
       "      <td>2</td>\n",
       "    </tr>\n",
       "    <tr>\n",
       "      <th>2</th>\n",
       "      <td>i must mean i need to take another</td>\n",
       "      <td>1</td>\n",
       "    </tr>\n",
       "    <tr>\n",
       "      <th>3</th>\n",
       "      <td>really aggressive to blast obnoxious in your f...</td>\n",
       "      <td>0</td>\n",
       "    </tr>\n",
       "    <tr>\n",
       "      <th>4</th>\n",
       "      <td>and a really big bad thing about it</td>\n",
       "      <td>0</td>\n",
       "    </tr>\n",
       "  </tbody>\n",
       "</table>\n",
       "</div>"
      ],
      "text/plain": [
       "                                                text  sentiment\n",
       "0                                         what said.          1\n",
       "1                      plus added commercials to the          2\n",
       "2                 i must mean i need to take another          1\n",
       "3  really aggressive to blast obnoxious in your f...          0\n",
       "4                and a really big bad thing about it          0"
      ]
     },
     "execution_count": 8,
     "metadata": {},
     "output_type": "execute_result"
    }
   ],
   "source": [
    "def clean(s):\n",
    "    s = s.lower()\n",
    "    return ' '.join([w for w in s.split() if w in vocab])\n",
    "\n",
    "df_tweets['text'] = df_tweets['text'].apply(clean)\n",
    "df_tweets.head()"
   ]
  },
  {
   "cell_type": "code",
   "execution_count": 9,
   "id": "647f9245-8d53-4d6d-a43c-7298061e48a3",
   "metadata": {},
   "outputs": [
    {
     "data": {
      "text/plain": [
       "31"
      ]
     },
     "execution_count": 9,
     "metadata": {},
     "output_type": "execute_result"
    }
   ],
   "source": [
    "max_tweet_len = df_tweets['text'].apply(str.split).apply(len).max() # max num words in a tweet\n",
    "max_tweet_len"
   ]
  },
  {
   "cell_type": "markdown",
   "id": "97c3b0ff-d8c7-40ea-932b-59b75bb92a72",
   "metadata": {},
   "source": [
    "## Encode tweets as sequence of word indexes\n",
    "\n",
    "Create matrix where X[i,j] is tweet i and word j within that tweet"
   ]
  },
  {
   "cell_type": "code",
   "execution_count": 10,
   "id": "ce940a20-283a-44af-a030-3480d6b30e85",
   "metadata": {},
   "outputs": [],
   "source": [
    "def encode_words(df):\n",
    "    X = torch.zeros(size=[len(df),max_tweet_len], dtype=int)\n",
    "    for i,tweet in enumerate(df['text'].apply(str.split)):\n",
    "        word_indexes = [wtoi[w] for w in tweet]\n",
    "        pad = nn.ConstantPad1d((0,max_tweet_len-len(word_indexes)), 0) # pad on right\n",
    "        X[i,:] = pad(torch.tensor(word_indexes))\n",
    "    return X"
   ]
  },
  {
   "cell_type": "code",
   "execution_count": 11,
   "id": "58b138d4-e021-430a-85a1-c27490ae92b7",
   "metadata": {},
   "outputs": [
    {
     "data": {
      "text/plain": [
       "tensor([[   103, 258433,      0,  ...,      0,      0,      0],\n",
       "        [  2259,    296,   7669,  ...,      0,      0,      0],\n",
       "        [    42,    391,   1703,  ...,      0,      0,      0],\n",
       "        ...,\n",
       "        [  3833,    939,    141,  ...,      0,      0,      0],\n",
       "        [    82,     34,    193,  ...,      0,      0,      0],\n",
       "        [    54,     34,    653,  ...,      0,      0,      0]])"
      ]
     },
     "execution_count": 11,
     "metadata": {},
     "output_type": "execute_result"
    }
   ],
   "source": [
    "X = encode_words(df_tweets)\n",
    "X"
   ]
  },
  {
   "cell_type": "markdown",
   "id": "496fbef5-9a44-4c7e-a5d1-aa7de583a951",
   "metadata": {},
   "source": [
    "## Create centroid word vector per tweet"
   ]
  },
  {
   "cell_type": "code",
   "execution_count": 47,
   "id": "59bcbab8-efe2-42d6-bb02-28fea65597d6",
   "metadata": {},
   "outputs": [],
   "source": [
    "def centroids(X):\n",
    "    X_encoded = torch.zeros(size=[X.shape[0],d])\n",
    "    for i,x in enumerate(X):\n",
    "        wvecs = [glove[wi,:] for wi in x if wi>0]\n",
    "        nw = len(wvecs)\n",
    "        if nw==0: # skip any tweets for which we don't have any word vectors\n",
    "            continue\n",
    "        wvecs = torch.tensor(wvecs)\n",
    "#         print(wvecs)\n",
    "        vsum = torch.sum(wvecs, axis=0)\n",
    "#         print(vsum)\n",
    "        centroid = torch.sum(wvecs, axis=0) / nw\n",
    "#         print(centroid)\n",
    "        X_encoded[i,:] = centroid\n",
    "    return X_encoded"
   ]
  },
  {
   "cell_type": "code",
   "execution_count": 48,
   "id": "48dc87c4-cb35-49f5-be70-7f9596aa58df",
   "metadata": {},
   "outputs": [
    {
     "data": {
      "text/plain": [
       "tensor([[-0.1643, -0.5938, -0.2448,  ...,  0.9445, -0.0405,  0.6883],\n",
       "        [ 0.1134,  0.1977,  0.1945,  ...,  0.2230, -0.1115,  0.2136],\n",
       "        [ 0.3592,  0.1108,  0.1639,  ...,  0.0512, -0.0813,  0.4020],\n",
       "        ...,\n",
       "        [ 0.1618,  0.2027,  0.2104,  ...,  0.1657, -0.1986,  0.3039],\n",
       "        [ 0.2700,  0.2328,  0.0771,  ...,  0.0269, -0.0474,  0.3363],\n",
       "        [ 0.3795,  0.0872,  0.2946,  ...,  0.0737, -0.0699,  0.0572]])"
      ]
     },
     "execution_count": 48,
     "metadata": {},
     "output_type": "execute_result"
    }
   ],
   "source": [
    "X_encoded = centroids(X)\n",
    "X_encoded"
   ]
  },
  {
   "cell_type": "code",
   "execution_count": 72,
   "id": "3584c290-f90b-464c-9b84-d9a6df9dc48a",
   "metadata": {},
   "outputs": [],
   "source": [
    "nclasses = len(df_tweets['sentiment'].unique())\n",
    "y = torch.tensor(df_tweets['sentiment'])"
   ]
  },
  {
   "cell_type": "code",
   "execution_count": 73,
   "id": "084e6cce-6e75-468d-92d6-f26bd525057d",
   "metadata": {},
   "outputs": [],
   "source": [
    "X_train, X_test, y_train, y_test = train_test_split(X_encoded, y, test_size=0.2)"
   ]
  },
  {
   "cell_type": "code",
   "execution_count": 74,
   "id": "2cbb301c-0fb2-4dff-99b7-4dbfc27a88e5",
   "metadata": {},
   "outputs": [
    {
     "name": "stdout",
     "output_type": "stream",
     "text": [
      "11,712 training records, 3 target classes\n"
     ]
    }
   ],
   "source": [
    "n = len(X_train)\n",
    "print(f\"{n:,d} training records, {nclasses} target classes\")"
   ]
  },
  {
   "cell_type": "markdown",
   "id": "9ca0402d-5b55-48d8-875d-43ab77e40be1",
   "metadata": {},
   "source": [
    "## Train RF model as baseline"
   ]
  },
  {
   "cell_type": "code",
   "execution_count": 75,
   "id": "6c684924-27fa-45e8-b6ac-4579f8c4b298",
   "metadata": {},
   "outputs": [
    {
     "data": {
      "text/plain": [
       "0.7060280054644809"
      ]
     },
     "execution_count": 75,
     "metadata": {},
     "output_type": "execute_result"
    }
   ],
   "source": [
    "rf = RandomForestClassifier(n_estimators=100, n_jobs=-1, oob_score=True)\n",
    "rf.fit(X_train, y_train)\n",
    "rf.oob_score_"
   ]
  },
  {
   "cell_type": "code",
   "execution_count": 76,
   "id": "2744f974-246e-4031-84bf-0eeefc950f61",
   "metadata": {},
   "outputs": [
    {
     "data": {
      "text/plain": [
       "0.7353782042216309"
      ]
     },
     "execution_count": 76,
     "metadata": {},
     "output_type": "execute_result"
    }
   ],
   "source": [
    "y_proba = rf.predict_proba(X_test)\n",
    "log_loss(y_test, y_proba)"
   ]
  },
  {
   "cell_type": "code",
   "execution_count": 77,
   "id": "ba2c0cbd-dbbe-4133-9e62-dbf2d39b21af",
   "metadata": {},
   "outputs": [
    {
     "data": {
      "text/plain": [
       "0.7120901639344263"
      ]
     },
     "execution_count": 77,
     "metadata": {},
     "output_type": "execute_result"
    }
   ],
   "source": [
    "y_pred = rf.predict(X_test)\n",
    "accuracy_score(y_test, y_pred)"
   ]
  },
  {
   "cell_type": "code",
   "execution_count": 78,
   "id": "944bf4f3-1426-4764-b5bf-dea6db5b594f",
   "metadata": {},
   "outputs": [
    {
     "name": "stdout",
     "output_type": "stream",
     "text": [
      "[[1765   63   22]\n",
      " [ 396  160   59]\n",
      " [ 246   57  160]]\n"
     ]
    }
   ],
   "source": [
    "conf = confusion_matrix(y_test, y_pred)\n",
    "print(conf)"
   ]
  },
  {
   "cell_type": "markdown",
   "id": "5094eb7c-4831-4efd-a226-44905fecb22a",
   "metadata": {},
   "source": [
    "## Train Vanilla Neural Network"
   ]
  },
  {
   "cell_type": "code",
   "execution_count": 80,
   "id": "f761239f-6d73-46ed-9648-37ed74c87391",
   "metadata": {},
   "outputs": [],
   "source": [
    "def ctrain(model, X_train, y_train, X_test, y_test, \n",
    "           learning_rate = .0001, nepochs=2000):\n",
    "    optimizer = torch.optim.Adam(model.parameters(), lr=learning_rate)\n",
    "    history = []\n",
    "    for epoch in range(nepochs+1):\n",
    "        y_pred = model(X_train)\n",
    "        # Assume model yields softmax probabilities\n",
    "        loss = F.cross_entropy(y_pred, y_train)\n",
    "        y_pred = torch.argmax(y_pred, axis=1)\n",
    "        ncorrect = torch.sum(y_pred==y_train)\n",
    "        accur = ncorrect.float() / len(y_train)\n",
    "\n",
    "        y_test_pred = model(X_test)\n",
    "        loss_test = F.cross_entropy(y_test_pred, y_test)\n",
    "        y_test_pred = torch.argmax(y_test_pred, axis=1)\n",
    "        ncorrect = torch.sum(y_test_pred==y_test)\n",
    "        loss_accur = ncorrect.float() / len(y_test)\n",
    "        \n",
    "        history.append((loss, loss_test, accur, loss_accur))\n",
    "        if epoch % (nepochs//10) == 0:\n",
    "            print(f\"Epoch {epoch:4d} cross entropy loss {loss:7.4f}   test loss {loss_test:7.4f}\")\n",
    "\n",
    "        optimizer.zero_grad()\n",
    "        loss.backward() # autograd computes w1.grad, b1.grad, ...\n",
    "        optimizer.step()\n",
    "    print(f\"LAST       cross entropy loss {loss:7.4f}\")\n",
    "    return torch.tensor(history)"
   ]
  },
  {
   "cell_type": "code",
   "execution_count": 169,
   "id": "67ca3139-b4a6-42c9-b44d-898704ce93d4",
   "metadata": {},
   "outputs": [],
   "source": [
    "model = nn.Sequential(\n",
    "    nn.Linear(50, 100),\n",
    "    nn.ReLU(),\n",
    "#     nn.Linear(20, 10),\n",
    "#     nn.ReLU(),\n",
    "    nn.Linear(100, 3),  # 3 output classes\n",
    "    nn.Softmax(dim=1)\n",
    ")"
   ]
  },
  {
   "cell_type": "code",
   "execution_count": 170,
   "id": "080aaf55-dab1-4ee9-bb0a-a59b04fbee3e",
   "metadata": {},
   "outputs": [
    {
     "name": "stdout",
     "output_type": "stream",
     "text": [
      "Epoch    0 cross entropy loss  1.0967   test loss  1.0968\n",
      "Epoch  100 cross entropy loss  0.8160   test loss  0.8258\n",
      "Epoch  200 cross entropy loss  0.7942   test loss  0.8239\n",
      "Epoch  300 cross entropy loss  0.7813   test loss  0.8260\n",
      "Epoch  400 cross entropy loss  0.7728   test loss  0.8264\n",
      "Epoch  500 cross entropy loss  0.7669   test loss  0.8268\n",
      "Epoch  600 cross entropy loss  0.7617   test loss  0.8278\n",
      "Epoch  700 cross entropy loss  0.7581   test loss  0.8271\n",
      "Epoch  800 cross entropy loss  0.7548   test loss  0.8277\n",
      "Epoch  900 cross entropy loss  0.7524   test loss  0.8279\n",
      "Epoch 1000 cross entropy loss  0.7502   test loss  0.8296\n",
      "LAST       cross entropy loss  0.7502\n"
     ]
    }
   ],
   "source": [
    "with tsensor.clarify():\n",
    "    history = ctrain(model, X_train, y_train, X_test, y_test,\n",
    "                     learning_rate = .01, nepochs=1000)"
   ]
  },
  {
   "cell_type": "code",
   "execution_count": 171,
   "id": "8ceb65f1-fca3-4d8b-9c0b-fd31f2e0dcfd",
   "metadata": {},
   "outputs": [
    {
     "name": "stdout",
     "output_type": "stream",
     "text": [
      "Training accuracy 0.805\n"
     ]
    }
   ],
   "source": [
    "y_proba = model(X_train)\n",
    "y_pred = torch.argmax(y_proba, axis=1)\n",
    "ncorrect = torch.sum(y_pred==y_train)\n",
    "train_accur = ncorrect.float() / len(y_train)\n",
    "print(f\"Training accuracy {train_accur:.3f}\")"
   ]
  },
  {
   "cell_type": "code",
   "execution_count": 172,
   "id": "be200d56-760b-44a4-a327-ec465e38fa0b",
   "metadata": {},
   "outputs": [
    {
     "name": "stdout",
     "output_type": "stream",
     "text": [
      "Validation accuracy 0.715\n"
     ]
    }
   ],
   "source": [
    "y_test_proba = model(X_test)\n",
    "y_test_pred = torch.argmax(y_test_proba, axis=1)\n",
    "ncorrect = torch.sum(y_test_pred==y_test)\n",
    "test_accur = ncorrect.float() / len(y_test)\n",
    "print(f\"Validation accuracy {test_accur:.3f}\")"
   ]
  },
  {
   "cell_type": "code",
   "execution_count": 173,
   "id": "ad2d4f60-4e35-4e7b-ba94-a8cc35fdc00b",
   "metadata": {},
   "outputs": [
    {
     "name": "stdout",
     "output_type": "stream",
     "text": [
      "[[1668  121   61]\n",
      " [ 346  194   75]\n",
      " [ 173   59  231]]\n"
     ]
    }
   ],
   "source": [
    "conf = confusion_matrix(y_test, y_test_pred)\n",
    "print(conf)"
   ]
  },
  {
   "cell_type": "code",
   "execution_count": 174,
   "id": "2ec622a7-3b0f-4ab2-87b7-78c1c2679f41",
   "metadata": {},
   "outputs": [
    {
     "data": {
      "image/png": "[encoded data removed]",
      "text/plain": [
       "<Figure size 252x216 with 1 Axes>"
      ]
     },
     "metadata": {
      "needs_background": "light"
     },
     "output_type": "display_data"
    }
   ],
   "source": [
    "plot_loss(history)"
   ]
  },
  {
   "cell_type": "code",
   "execution_count": 175,
   "id": "90ca2d30-cc06-452c-b717-9846d92eac2a",
   "metadata": {},
   "outputs": [
    {
     "data": {
      "image/png": "[encoded data removed]",
      "text/plain": [
       "<Figure size 252x216 with 1 Axes>"
      ]
     },
     "metadata": {
      "needs_background": "light"
     },
     "output_type": "display_data"
    }
   ],
   "source": [
    "plot_accur(history)"
   ]
  },
  {
   "cell_type": "markdown",
   "id": "81f03a17-1ffb-4588-8098-7d3303ba9a7c",
   "metadata": {},
   "source": [
    "## Train custom word embeddings"
   ]
  },
  {
   "cell_type": "code",
   "execution_count": 178,
   "id": "815c534b-6ddd-45b7-900f-b2a754a0c5ae",
   "metadata": {},
   "outputs": [],
   "source": [
    "X_train, X_test, y_train, y_test = train_test_split(X, y, test_size=0.2)"
   ]
  },
  {
   "cell_type": "code",
   "execution_count": 179,
   "id": "13e828cc-0627-45b2-866f-4cbdfc66b1dd",
   "metadata": {},
   "outputs": [
    {
     "name": "stdout",
     "output_type": "stream",
     "text": [
      "11,712 training records, 3 target classes\n"
     ]
    }
   ],
   "source": [
    "n = len(X_train)\n",
    "print(f\"{n:,d} training records, {nclasses} target classes\")"
   ]
  },
  {
   "cell_type": "code",
   "execution_count": 186,
   "id": "8704c405-bfeb-4b81-a2a5-8b29c05a1043",
   "metadata": {},
   "outputs": [
    {
     "data": {
      "text/plain": [
       "tensor([[ 2341, 13954,     5,  ...,     0,     0,     0],\n",
       "        [ 1293,  5613,     1,  ...,     0,     0,     0],\n",
       "        [ 1821,   600,    14,  ...,     0,     0,     0],\n",
       "        ...,\n",
       "        [57118,    21,   211,  ...,     0,     0,     0],\n",
       "        [  144,    84,    82,  ...,     0,     0,     0],\n",
       "        [ 5055,    38, 61315,  ...,     0,     0,     0]])"
      ]
     },
     "execution_count": 186,
     "metadata": {},
     "output_type": "execute_result"
    }
   ],
   "source": [
    "X_train"
   ]
  },
  {
   "cell_type": "code",
   "execution_count": 259,
   "id": "06cf7eea-9352-4df7-8def-a5aa4dd49462",
   "metadata": {},
   "outputs": [],
   "source": [
    "class CBOW(nn.Module):\n",
    "    def __init__(self, vocab_size, emb_size=100, nclasses=3):\n",
    "        super(CBOW, self).__init__()\n",
    "        self.word_emb = nn.Embedding(vocab_size, emb_size, padding_idx=0)\n",
    "        self.linear = nn.Linear(emb_size, nclasses)\n",
    "        \n",
    "    def forward(self, x):\n",
    "        x = self.word_emb(x)\n",
    "        print(x)\n",
    "        nw = 1\n",
    "        x = x.sum(dim=0) / nw\n",
    "#         print(\"avg = \", x)\n",
    "        y_hat = self.linear(x)\n",
    "#         print(\"y_hat =\", y_hat)\n",
    "#         y_hat = y_hat.unsqueeze(1)\n",
    "#         print(\"y_hat =\", y_hat)\n",
    "        y_hat = F.softmax(y_hat, dim=0)\n",
    "#         print(\"softmax(y_hat) =\", y_hat.shape, y_hat)\n",
    "        return y_hat"
   ]
  },
  {
   "cell_type": "code",
   "execution_count": 260,
   "id": "6cf5b66e-2f3a-4170-a853-14fb75755dbc",
   "metadata": {},
   "outputs": [],
   "source": [
    "with tsensor.clarify():\n",
    "    model = CBOW(len(vocab), emb_size=5, nclasses=nclasses)"
   ]
  },
  {
   "cell_type": "code",
   "execution_count": 261,
   "id": "19caea4a-d8ca-4a63-969d-d714e0434f46",
   "metadata": {},
   "outputs": [],
   "source": [
    "def ctrain_emb(model, X_train, y_train, X_test, y_test, \n",
    "               learning_rate = .0001, nepochs=2000):\n",
    "    optimizer = torch.optim.Adam(model.parameters(), lr=learning_rate)\n",
    "    history = []\n",
    "    for epoch in range(nepochs+1):\n",
    "        y_pred = model(X_train)\n",
    "        # Assume model yields softmax probabilities\n",
    "        print(\"y_pred =\", y_pred.shape, y_pred)\n",
    "        loss = F.cross_entropy(y_pred, y_train)\n",
    "        y_pred = torch.argmax(y_pred, axis=1)\n",
    "        ncorrect = torch.sum(y_pred==y_train)\n",
    "        accur = ncorrect.float() / len(y_train)\n",
    "\n",
    "        y_test_pred = model(X_test)\n",
    "        loss_test = F.cross_entropy(y_test_pred, y_test)\n",
    "        y_test_pred = torch.argmax(y_test_pred, axis=1)\n",
    "        ncorrect = torch.sum(y_test_pred==y_test)\n",
    "        loss_accur = ncorrect.float() / len(y_test)\n",
    "        \n",
    "        history.append((loss, loss_test, accur, loss_accur))\n",
    "        if epoch % (nepochs//10) == 0:\n",
    "            print(f\"Epoch {epoch:4d} cross entropy loss {loss:7.4f}   test loss {loss_test:7.4f}\")\n",
    "\n",
    "        optimizer.zero_grad()\n",
    "        loss.backward() # autograd computes w1.grad, b1.grad, ...\n",
    "        optimizer.step()\n",
    "    print(f\"LAST       cross entropy loss {loss:7.4f}\")\n",
    "    return torch.tensor(history)"
   ]
  },
  {
   "cell_type": "code",
   "execution_count": 262,
   "id": "6a49afd1-57c0-4d09-9106-a8c3eb322a80",
   "metadata": {},
   "outputs": [
    {
     "name": "stdout",
     "output_type": "stream",
     "text": [
      "tensor([[[-0.3776,  0.5112, -0.4685, -0.2173, -0.4325],\n",
      "         [-0.5353, -1.0387, -1.6116,  2.3788, -1.9176],\n",
      "         [ 0.3490,  0.4177, -1.0080,  0.0900, -0.3951],\n",
      "         ...,\n",
      "         [ 0.0000,  0.0000,  0.0000,  0.0000,  0.0000],\n",
      "         [ 0.0000,  0.0000,  0.0000,  0.0000,  0.0000],\n",
      "         [ 0.0000,  0.0000,  0.0000,  0.0000,  0.0000]],\n",
      "\n",
      "        [[-0.0344,  1.2392, -1.1679,  0.3664, -0.2221],\n",
      "         [ 0.9226,  0.8736, -0.5068,  0.5104,  0.4232],\n",
      "         [ 0.0846,  1.2967, -1.9184, -0.8218,  0.6044],\n",
      "         ...,\n",
      "         [ 0.0000,  0.0000,  0.0000,  0.0000,  0.0000],\n",
      "         [ 0.0000,  0.0000,  0.0000,  0.0000,  0.0000],\n",
      "         [ 0.0000,  0.0000,  0.0000,  0.0000,  0.0000]],\n",
      "\n",
      "        [[ 1.4280,  1.3333,  0.8169,  1.4733,  0.2578],\n",
      "         [-0.9225, -1.4475, -0.2224, -1.3331, -2.3493],\n",
      "         [-1.5236, -0.4335,  1.1128, -0.6646, -0.0982],\n",
      "         ...,\n",
      "         [ 0.0000,  0.0000,  0.0000,  0.0000,  0.0000],\n",
      "         [ 0.0000,  0.0000,  0.0000,  0.0000,  0.0000],\n",
      "         [ 0.0000,  0.0000,  0.0000,  0.0000,  0.0000]],\n",
      "\n",
      "        ...,\n",
      "\n",
      "        [[ 0.8700, -0.7835, -0.1099, -1.3880,  0.3504],\n",
      "         [-1.5537,  0.2977, -0.2573,  1.0668,  0.0244],\n",
      "         [-0.8245,  0.1024, -0.9393, -0.1211,  1.2310],\n",
      "         ...,\n",
      "         [ 0.0000,  0.0000,  0.0000,  0.0000,  0.0000],\n",
      "         [ 0.0000,  0.0000,  0.0000,  0.0000,  0.0000],\n",
      "         [ 0.0000,  0.0000,  0.0000,  0.0000,  0.0000]],\n",
      "\n",
      "        [[-0.9346, -1.4762, -0.1336, -0.0504,  0.2296],\n",
      "         [ 0.6667, -1.5933,  2.0010,  0.3813,  0.4748],\n",
      "         [-1.0609, -0.6817,  0.6898,  0.2500,  0.1935],\n",
      "         ...,\n",
      "         [ 0.0000,  0.0000,  0.0000,  0.0000,  0.0000],\n",
      "         [ 0.0000,  0.0000,  0.0000,  0.0000,  0.0000],\n",
      "         [ 0.0000,  0.0000,  0.0000,  0.0000,  0.0000]],\n",
      "\n",
      "        [[ 0.1123,  0.2183, -0.0740, -0.8434,  0.2748],\n",
      "         [ 0.2180,  1.5586, -0.3824, -0.2325,  0.2099],\n",
      "         [-0.8810, -2.3037, -0.6514, -1.1194, -0.3586],\n",
      "         ...,\n",
      "         [ 0.0000,  0.0000,  0.0000,  0.0000,  0.0000],\n",
      "         [ 0.0000,  0.0000,  0.0000,  0.0000,  0.0000],\n",
      "         [ 0.0000,  0.0000,  0.0000,  0.0000,  0.0000]]],\n",
      "       grad_fn=<EmbeddingBackward>)\n",
      "y_pred = torch.Size([31, 3]) tensor([[0.0000e+00, 0.0000e+00, 0.0000e+00],\n",
      "        [1.0000e+00, 0.0000e+00, 4.3916e-26],\n",
      "        [0.0000e+00, 0.0000e+00, 1.0000e+00],\n",
      "        [0.0000e+00, 1.6807e-24, 1.3976e-36],\n",
      "        [0.0000e+00, 0.0000e+00, 0.0000e+00],\n",
      "        [0.0000e+00, 9.9999e-01, 0.0000e+00],\n",
      "        [0.0000e+00, 1.4013e-45, 0.0000e+00],\n",
      "        [0.0000e+00, 1.2689e-05, 0.0000e+00],\n",
      "        [0.0000e+00, 1.4852e-18, 0.0000e+00],\n",
      "        [0.0000e+00, 2.2204e-11, 0.0000e+00],\n",
      "        [0.0000e+00, 7.1643e-35, 0.0000e+00],\n",
      "        [0.0000e+00, 0.0000e+00, 0.0000e+00],\n",
      "        [0.0000e+00, 2.7230e-33, 0.0000e+00],\n",
      "        [0.0000e+00, 2.7606e-16, 0.0000e+00],\n",
      "        [0.0000e+00, 5.6016e-08, 0.0000e+00],\n",
      "        [0.0000e+00, 1.3870e-33, 0.0000e+00],\n",
      "        [0.0000e+00, 4.1367e-39, 0.0000e+00],\n",
      "        [0.0000e+00, 1.7249e-20, 0.0000e+00],\n",
      "        [0.0000e+00, 0.0000e+00, 0.0000e+00],\n",
      "        [0.0000e+00, 2.9208e-24, 0.0000e+00],\n",
      "        [0.0000e+00, 1.0835e-39, 0.0000e+00],\n",
      "        [0.0000e+00, 1.0829e-20, 0.0000e+00],\n",
      "        [0.0000e+00, 4.9869e-30, 0.0000e+00],\n",
      "        [0.0000e+00, 7.0494e-28, 0.0000e+00],\n",
      "        [0.0000e+00, 1.4911e-22, 0.0000e+00],\n",
      "        [0.0000e+00, 1.0656e-21, 0.0000e+00],\n",
      "        [0.0000e+00, 7.4590e-26, 0.0000e+00],\n",
      "        [0.0000e+00, 3.4185e-24, 0.0000e+00],\n",
      "        [0.0000e+00, 1.1004e-21, 0.0000e+00],\n",
      "        [0.0000e+00, 5.8619e-21, 0.0000e+00],\n",
      "        [0.0000e+00, 1.2153e-20, 0.0000e+00]], grad_fn=<SoftmaxBackward>)\n"
     ]
    },
    {
     "data": {
      "image/svg+xml": [
       "<svg xmlns=\"http://www.w3.org/2000/svg\" xmlns:xlink=\"http://www.w3.org/1999/xlink\" height=\"45.995716pt\" version=\"1.1\" viewBox=\"0 0 262.209769 45.995716\" width=\"262.209769pt\">\n",
       " <metadata>\n",
       "  <rdf:RDF xmlns:cc=\"http://creativecommons.org/ns#\" xmlns:dc=\"http://purl.org/dc/elements/1.1/\" xmlns:rdf=\"http://www.w3.org/1999/02/22-rdf-syntax-ns#\">\n",
       "   <cc:Work>\n",
       "    <dc:type rdf:resource=\"http://purl.org/dc/dcmitype/StillImage\"/>\n",
       "    <dc:date>2021-10-16T13:23:23.681021</dc:date>\n",
       "    <dc:format>image/svg+xml</dc:format>\n",
       "    <dc:creator>\n",
       "     <cc:Agent>\n",
       "      <dc:title>Matplotlib v3.3.4, https://matplotlib.org/</dc:title>\n",
       "     </cc:Agent>\n",
       "    </dc:creator>\n",
       "   </cc:Work>\n",
       "  </rdf:RDF>\n",
       " </metadata>\n",
       " <defs>\n",
       "  <style type=\"text/css\">*{stroke-linecap:butt;stroke-linejoin:round;}</style>\n",
       " </defs>\n",
       " <g id=\"figure_1\">\n",
       "  <g id=\"patch_1\">\n",
       "   <path d=\"M 0 45.995716  L 262.209769 45.995716  L 262.209769 0  L 0 0  z \" style=\"fill:none;\"/>\n",
       "  </g>\n",
       "  <g id=\"axes_1\">\n",
       "   <g id=\"patch_2\">\n",
       "    <path clip-path=\"url(#p24ee5a1948)\" d=\"M 165.29355 45.180316  L 188.14365 45.180316  L 188.14365 22.919896  L 165.29355 22.919896  z \" style=\"fill:#cfe2d4;stroke:#808080;stroke-linejoin:miter;stroke-width:0.7;\"/>\n",
       "   </g>\n",
       "   <g id=\"patch_3\">\n",
       "    <path clip-path=\"url(#p24ee5a1948)\" d=\"M 220.78665 28.007992  L 243.63675 28.007992  L 243.63675 22.919896  L 220.78665 22.919896  z \" style=\"fill:#fefecd;stroke:#808080;stroke-linejoin:miter;stroke-width:0.7;\"/>\n",
       "   </g>\n",
       "   <g id=\"line2d_1\">\n",
       "    <path clip-path=\"url(#p24ee5a1948)\" d=\"M 156.47994 13.192653  L 196.95726 13.192653  \" style=\"fill:none;stroke:#c2c2c2;stroke-linecap:square;stroke-width:0.5;\"/>\n",
       "   </g>\n",
       "   <g id=\"line2d_2\">\n",
       "    <path clip-path=\"url(#p24ee5a1948)\" d=\"M 208.70874 13.192653  L 255.71466 13.192653  \" style=\"fill:none;stroke:#c2c2c2;stroke-linecap:square;stroke-width:0.5;\"/>\n",
       "   </g>\n",
       "   <g id=\"text_1\">\n",
       "    <!-- l -->\n",
       "    <g style=\"fill:#b4b4b4;\" transform=\"translate(6.975 9.451406)scale(0.13 -0.13)\">\n",
       "     <defs>\n",
       "      <path d=\"M 24.515625 62.015625  L 10.015625 62.015625  L 10.015625 69  L 33.109375 69  L 33.109375 7.078125  L 47.703125 7.078125  L 47.703125 0  L 8.40625 0  L 8.40625 7.078125  L 24.515625 7.078125  z \" id=\"Consolas-108\"/>\n",
       "     </defs>\n",
       "     <use xlink:href=\"#Consolas-108\"/>\n",
       "    </g>\n",
       "   </g>\n",
       "   <g id=\"text_2\">\n",
       "    <!-- o -->\n",
       "    <g style=\"fill:#b4b4b4;\" transform=\"translate(13.5036 9.451406)scale(0.13 -0.13)\">\n",
       "     <defs>\n",
       "      <path d=\"M 50.484375 24.90625  Q 50.484375 19.1875 48.875 14.421875  Q 47.265625 9.671875 44.234375 6.265625  Q 41.21875 2.875 36.859375 1  Q 32.515625 -0.875 27 -0.875  Q 21.734375 -0.875 17.546875 0.75  Q 13.375 2.390625 10.46875 5.5625  Q 7.5625 8.734375 6.03125 13.421875  Q 4.5 18.109375 4.5 24.21875  Q 4.5 29.9375 6.109375 34.640625  Q 7.71875 39.359375 10.734375 42.75  Q 13.765625 46.140625 18.109375 48.015625  Q 22.46875 49.90625 27.984375 49.90625  Q 33.25 49.90625 37.421875 48.265625  Q 41.609375 46.625 44.5 43.46875  Q 47.40625 40.328125 48.9375 35.640625  Q 50.484375 30.953125 50.484375 24.90625  z M 41.796875 24.515625  Q 41.796875 29.046875 40.796875 32.4375  Q 39.796875 35.84375 37.9375 38.109375  Q 36.078125 40.375 33.421875 41.515625  Q 30.765625 42.671875 27.484375 42.671875  Q 23.6875 42.671875 20.96875 41.1875  Q 18.265625 39.703125 16.53125 37.203125  Q 14.796875 34.71875 13.984375 31.421875  Q 13.1875 28.125 13.1875 24.515625  Q 13.1875 19.96875 14.1875 16.546875  Q 15.1875 13.140625 17.03125 10.859375  Q 18.890625 8.59375 21.53125 7.4375  Q 24.171875 6.296875 27.484375 6.296875  Q 31.296875 6.296875 34 7.78125  Q 36.71875 9.28125 38.453125 11.765625  Q 40.1875 14.265625 40.984375 17.546875  Q 41.796875 20.84375 41.796875 24.515625  z \" id=\"Consolas-111\"/>\n",
       "     </defs>\n",
       "     <use xlink:href=\"#Consolas-111\"/>\n",
       "    </g>\n",
       "   </g>\n",
       "   <g id=\"text_3\">\n",
       "    <!-- s -->\n",
       "    <g style=\"fill:#b4b4b4;\" transform=\"translate(20.0322 9.451406)scale(0.13 -0.13)\">\n",
       "     <defs>\n",
       "      <path d=\"M 46.625 13.375  Q 46.625 10.796875 45.75 8.734375  Q 44.875 6.6875 43.359375 5.09375  Q 41.84375 3.515625 39.84375 2.390625  Q 37.84375 1.265625 35.5625 0.53125  Q 33.296875 -0.203125 30.90625 -0.53125  Q 28.515625 -0.875 26.21875 -0.875  Q 21.234375 -0.875 17.0625 -0.4375  Q 12.890625 0 8.890625 0.984375  L 8.890625 8.796875  Q 13.1875 7.5625 17.4375 6.921875  Q 21.6875 6.296875 25.875 6.296875  Q 31.984375 6.296875 34.90625 7.953125  Q 37.84375 9.625 37.84375 12.703125  Q 37.84375 14.015625 37.375 15.0625  Q 36.921875 16.109375 35.6875 17.0625  Q 34.46875 18.015625 31.90625 19.03125  Q 29.34375 20.0625 24.90625 21.390625  Q 21.578125 22.359375 18.765625 23.609375  Q 15.96875 24.859375 13.90625 26.5625  Q 11.859375 28.265625 10.6875 30.5625  Q 9.515625 32.859375 9.515625 35.984375  Q 9.515625 38.03125 10.46875 40.46875  Q 11.421875 42.921875 13.71875 45.015625  Q 16.015625 47.125 19.921875 48.515625  Q 23.828125 49.90625 29.6875 49.90625  Q 32.5625 49.90625 36.078125 49.578125  Q 39.59375 49.265625 43.40625 48.484375  L 43.40625 40.921875  Q 39.40625 41.890625 35.8125 42.359375  Q 32.234375 42.828125 29.59375 42.828125  Q 26.421875 42.828125 24.25 42.328125  Q 22.078125 41.84375 20.734375 40.984375  Q 19.390625 40.140625 18.796875 38.984375  Q 18.21875 37.84375 18.21875 36.53125  Q 18.21875 35.203125 18.71875 34.125  Q 19.234375 33.0625 20.625 32.0625  Q 22.015625 31.0625 24.5 30.046875  Q 27 29.046875 31 27.875  Q 35.359375 26.609375 38.328125 25.21875  Q 41.3125 23.828125 43.15625 22.109375  Q 45.015625 20.40625 45.8125 18.25  Q 46.625 16.109375 46.625 13.375  z \" id=\"Consolas-115\"/>\n",
       "     </defs>\n",
       "     <use xlink:href=\"#Consolas-115\"/>\n",
       "    </g>\n",
       "   </g>\n",
       "   <g id=\"text_4\">\n",
       "    <!-- s -->\n",
       "    <g style=\"fill:#b4b4b4;\" transform=\"translate(26.5608 9.451406)scale(0.13 -0.13)\">\n",
       "     <use xlink:href=\"#Consolas-115\"/>\n",
       "    </g>\n",
       "   </g>\n",
       "   <g id=\"text_5\">\n",
       "    <!--   -->\n",
       "    <g style=\"fill:#b4b4b4;\" transform=\"translate(33.0894 9.451406)scale(0.13 -0.13)\">\n",
       "     <defs>\n",
       "      <path id=\"Consolas-32\"/>\n",
       "     </defs>\n",
       "     <use xlink:href=\"#Consolas-32\"/>\n",
       "    </g>\n",
       "   </g>\n",
       "   <g id=\"text_6\">\n",
       "    <!-- = -->\n",
       "    <g style=\"fill:#b4b4b4;\" transform=\"translate(39.618 9.451406)scale(0.13 -0.13)\">\n",
       "     <defs>\n",
       "      <path d=\"M 48.484375 31.546875  L 6.5 31.546875  L 6.5 38.71875  L 48.484375 38.71875  z M 48.484375 14.546875  L 6.5 14.546875  L 6.5 21.734375  L 48.484375 21.734375  z \" id=\"Consolas-61\"/>\n",
       "     </defs>\n",
       "     <use xlink:href=\"#Consolas-61\"/>\n",
       "    </g>\n",
       "   </g>\n",
       "   <g id=\"text_7\">\n",
       "    <!--   -->\n",
       "    <g style=\"fill:#b4b4b4;\" transform=\"translate(46.1466 9.451406)scale(0.13 -0.13)\">\n",
       "     <use xlink:href=\"#Consolas-32\"/>\n",
       "    </g>\n",
       "   </g>\n",
       "   <g id=\"text_8\">\n",
       "    <!-- F -->\n",
       "    <g style=\"fill:#444443;\" transform=\"translate(52.6752 9.451406)scale(0.13 -0.13)\">\n",
       "     <defs>\n",
       "      <path d=\"M 46 56.390625  L 18.890625 56.390625  L 18.890625 35.6875  L 44.578125 35.6875  L 44.578125 28.421875  L 18.890625 28.421875  L 18.890625 0  L 10.015625 0  L 10.015625 63.8125  L 46 63.8125  z \" id=\"Consolas-70\"/>\n",
       "     </defs>\n",
       "     <use xlink:href=\"#Consolas-70\"/>\n",
       "    </g>\n",
       "   </g>\n",
       "   <g id=\"text_9\">\n",
       "    <!-- . -->\n",
       "    <g style=\"fill:#444443;\" transform=\"translate(59.2038 9.451406)scale(0.13 -0.13)\">\n",
       "     <defs>\n",
       "      <path d=\"M 27.09375 15.375  Q 28.765625 15.375 30.25 14.734375  Q 31.734375 14.109375 32.828125 12.984375  Q 33.9375 11.859375 34.5625 10.375  Q 35.203125 8.890625 35.203125 7.171875  Q 35.203125 5.515625 34.5625 4.046875  Q 33.9375 2.59375 32.828125 1.484375  Q 31.734375 0.390625 30.25 -0.234375  Q 28.765625 -0.875 27.09375 -0.875  Q 25.390625 -0.875 23.921875 -0.234375  Q 22.46875 0.390625 21.359375 1.484375  Q 20.265625 2.59375 19.625 4.046875  Q 19 5.515625 19 7.171875  Q 19 8.890625 19.625 10.375  Q 20.265625 11.859375 21.359375 12.984375  Q 22.46875 14.109375 23.921875 14.734375  Q 25.390625 15.375 27.09375 15.375  z \" id=\"Consolas-46\"/>\n",
       "     </defs>\n",
       "     <use xlink:href=\"#Consolas-46\"/>\n",
       "    </g>\n",
       "   </g>\n",
       "   <g id=\"text_10\">\n",
       "    <!-- c -->\n",
       "    <g style=\"fill:#a40227;\" transform=\"translate(65.7324 9.451406)scale(0.13 -0.13)\">\n",
       "     <defs>\n",
       "      <path d=\"M 45.90625 1.8125  Q 42.578125 0.53125 39.078125 -0.078125  Q 35.59375 -0.6875 31.890625 -0.6875  Q 20.265625 -0.6875 13.984375 5.609375  Q 7.71875 11.921875 7.71875 24.03125  Q 7.71875 29.828125 9.515625 34.5625  Q 11.328125 39.3125 14.59375 42.671875  Q 17.875 46.046875 22.40625 47.875  Q 26.953125 49.703125 32.421875 49.703125  Q 36.234375 49.703125 39.546875 49.171875  Q 42.875 48.640625 45.90625 47.40625  L 45.90625 39.3125  Q 42.71875 40.96875 39.421875 41.71875  Q 36.140625 42.484375 32.625 42.484375  Q 29.34375 42.484375 26.4375 41.234375  Q 23.53125 39.984375 21.328125 37.640625  Q 19.140625 35.296875 17.875 31.921875  Q 16.609375 28.5625 16.609375 24.3125  Q 16.609375 15.4375 20.921875 11.015625  Q 25.25 6.59375 32.90625 6.59375  Q 36.375 6.59375 39.625 7.375  Q 42.875 8.15625 45.90625 9.71875  z \" id=\"Consolas-99\"/>\n",
       "     </defs>\n",
       "     <use xlink:href=\"#Consolas-99\"/>\n",
       "    </g>\n",
       "   </g>\n",
       "   <g id=\"text_11\">\n",
       "    <!-- r -->\n",
       "    <g style=\"fill:#a40227;\" transform=\"translate(72.261 9.451406)scale(0.13 -0.13)\">\n",
       "     <defs>\n",
       "      <path d=\"M 9.8125 49.03125  L 17.578125 49.03125  L 17.828125 39.984375  Q 22.171875 45.21875 26.390625 47.5625  Q 30.609375 49.90625 34.90625 49.90625  Q 42.53125 49.90625 46.453125 44.96875  Q 50.390625 40.046875 50.09375 30.328125  L 41.5 30.328125  Q 41.65625 36.765625 39.625 39.671875  Q 37.59375 42.578125 33.6875 42.578125  Q 31.984375 42.578125 30.25 41.96875  Q 28.515625 41.359375 26.6875 40.015625  Q 24.859375 38.671875 22.796875 36.5625  Q 20.75 34.46875 18.40625 31.5  L 18.40625 0  L 9.8125 0  z \" id=\"Consolas-114\"/>\n",
       "     </defs>\n",
       "     <use xlink:href=\"#Consolas-114\"/>\n",
       "    </g>\n",
       "   </g>\n",
       "   <g id=\"text_12\">\n",
       "    <!-- o -->\n",
       "    <g style=\"fill:#a40227;\" transform=\"translate(78.7896 9.451406)scale(0.13 -0.13)\">\n",
       "     <use xlink:href=\"#Consolas-111\"/>\n",
       "    </g>\n",
       "   </g>\n",
       "   <g id=\"text_13\">\n",
       "    <!-- s -->\n",
       "    <g style=\"fill:#a40227;\" transform=\"translate(85.3182 9.451406)scale(0.13 -0.13)\">\n",
       "     <use xlink:href=\"#Consolas-115\"/>\n",
       "    </g>\n",
       "   </g>\n",
       "   <g id=\"text_14\">\n",
       "    <!-- s -->\n",
       "    <g style=\"fill:#a40227;\" transform=\"translate(91.8468 9.451406)scale(0.13 -0.13)\">\n",
       "     <use xlink:href=\"#Consolas-115\"/>\n",
       "    </g>\n",
       "   </g>\n",
       "   <g id=\"text_15\">\n",
       "    <!-- _ -->\n",
       "    <g style=\"fill:#a40227;\" transform=\"translate(98.3754 9.451406)scale(0.13 -0.13)\">\n",
       "     <defs>\n",
       "      <path d=\"M 54.984375 -20.015625  L 0 -20.015625  L 0 -12.984375  L 54.984375 -12.984375  z \" id=\"Consolas-95\"/>\n",
       "     </defs>\n",
       "     <use xlink:href=\"#Consolas-95\"/>\n",
       "    </g>\n",
       "   </g>\n",
       "   <g id=\"text_16\">\n",
       "    <!-- e -->\n",
       "    <g style=\"fill:#a40227;\" transform=\"translate(104.904 9.451406)scale(0.13 -0.13)\">\n",
       "     <defs>\n",
       "      <path d=\"M 49.21875 27.09375  Q 49.21875 25.296875 49.171875 24.078125  Q 49.125 22.859375 49.03125 21.78125  L 14.59375 21.78125  Q 14.59375 14.265625 18.796875 10.234375  Q 23 6.203125 30.90625 6.203125  Q 33.0625 6.203125 35.203125 6.375  Q 37.359375 6.546875 39.359375 6.828125  Q 41.359375 7.125 43.1875 7.484375  Q 45.015625 7.859375 46.578125 8.296875  L 46.578125 1.3125  Q 43.109375 0.34375 38.734375 -0.265625  Q 34.375 -0.875 29.6875 -0.875  Q 23.390625 -0.875 18.84375 0.828125  Q 14.3125 2.546875 11.40625 5.78125  Q 8.5 9.03125 7.109375 13.734375  Q 5.71875 18.453125 5.71875 24.421875  Q 5.71875 29.59375 7.203125 34.203125  Q 8.6875 38.8125 11.546875 42.296875  Q 14.40625 45.796875 18.546875 47.84375  Q 22.703125 49.90625 27.984375 49.90625  Q 33.109375 49.90625 37.0625 48.296875  Q 41.015625 46.6875 43.71875 43.71875  Q 46.4375 40.765625 47.828125 36.546875  Q 49.21875 32.328125 49.21875 27.09375  z M 40.375 28.328125  Q 40.53125 31.59375 39.75 34.296875  Q 38.96875 37.015625 37.328125 38.96875  Q 35.6875 40.921875 33.25 42.015625  Q 30.8125 43.109375 27.59375 43.109375  Q 24.8125 43.109375 22.515625 42.03125  Q 20.21875 40.96875 18.546875 39.015625  Q 16.890625 37.0625 15.859375 34.328125  Q 14.84375 31.59375 14.59375 28.328125  z \" id=\"Consolas-101\"/>\n",
       "     </defs>\n",
       "     <use xlink:href=\"#Consolas-101\"/>\n",
       "    </g>\n",
       "   </g>\n",
       "   <g id=\"text_17\">\n",
       "    <!-- n -->\n",
       "    <g style=\"fill:#a40227;\" transform=\"translate(111.4326 9.451406)scale(0.13 -0.13)\">\n",
       "     <defs>\n",
       "      <path d=\"M 7.8125 49.03125  L 15.375 49.03125  L 15.71875 41.109375  Q 17.875 43.65625 19.875 45.328125  Q 21.875 47.015625 23.796875 48.046875  Q 25.734375 49.078125 27.734375 49.484375  Q 29.734375 49.90625 31.890625 49.90625  Q 39.453125 49.90625 43.328125 45.4375  Q 47.21875 40.96875 47.21875 31.984375  L 47.21875 0  L 38.71875 0  L 38.71875 31.296875  Q 38.71875 37.0625 36.5625 39.8125  Q 34.421875 42.578125 30.171875 42.578125  Q 28.609375 42.578125 27.125 42.109375  Q 25.640625 41.65625 24.015625 40.5  Q 22.40625 39.359375 20.53125 37.40625  Q 18.65625 35.453125 16.3125 32.515625  L 16.3125 0  L 7.8125 0  z \" id=\"Consolas-110\"/>\n",
       "     </defs>\n",
       "     <use xlink:href=\"#Consolas-110\"/>\n",
       "    </g>\n",
       "   </g>\n",
       "   <g id=\"text_18\">\n",
       "    <!-- t -->\n",
       "    <g style=\"fill:#a40227;\" transform=\"translate(117.9612 9.451406)scale(0.13 -0.13)\">\n",
       "     <defs>\n",
       "      <path d=\"M 47.3125 0.6875  Q 44.4375 -0.046875 41.359375 -0.359375  Q 38.28125 -0.6875 35.109375 -0.6875  Q 25.875 -0.6875 21.328125 3.484375  Q 16.796875 7.671875 16.796875 16.3125  L 16.796875 41.890625  L 3.078125 41.890625  L 3.078125 49.03125  L 16.796875 49.03125  L 16.796875 62.5  L 25.296875 64.703125  L 25.296875 49.03125  L 47.3125 49.03125  L 47.3125 41.890625  L 25.296875 41.890625  L 25.296875 17  Q 25.296875 11.71875 28.09375 9.109375  Q 30.90625 6.5 36.375 6.5  Q 38.71875 6.5 41.5 6.859375  Q 44.28125 7.234375 47.3125 8.015625  z \" id=\"Consolas-116\"/>\n",
       "     </defs>\n",
       "     <use xlink:href=\"#Consolas-116\"/>\n",
       "    </g>\n",
       "   </g>\n",
       "   <g id=\"text_19\">\n",
       "    <!-- r -->\n",
       "    <g style=\"fill:#a40227;\" transform=\"translate(124.4898 9.451406)scale(0.13 -0.13)\">\n",
       "     <use xlink:href=\"#Consolas-114\"/>\n",
       "    </g>\n",
       "   </g>\n",
       "   <g id=\"text_20\">\n",
       "    <!-- o -->\n",
       "    <g style=\"fill:#a40227;\" transform=\"translate(131.0184 9.451406)scale(0.13 -0.13)\">\n",
       "     <use xlink:href=\"#Consolas-111\"/>\n",
       "    </g>\n",
       "   </g>\n",
       "   <g id=\"text_21\">\n",
       "    <!-- p -->\n",
       "    <g style=\"fill:#a40227;\" transform=\"translate(137.547 9.451406)scale(0.13 -0.13)\">\n",
       "     <defs>\n",
       "      <path d=\"M 49.703125 25.390625  Q 49.703125 18.84375 47.875 13.953125  Q 46.046875 9.078125 42.8125 5.859375  Q 39.59375 2.640625 35.203125 1.015625  Q 30.8125 -0.59375 25.6875 -0.59375  Q 23.34375 -0.59375 21.015625 -0.34375  Q 18.703125 -0.09375 16.3125 0.484375  L 16.3125 -20.015625  L 7.8125 -20.015625  L 7.8125 49.03125  L 15.375 49.03125  L 15.921875 40.828125  Q 19.578125 45.84375 23.71875 47.875  Q 27.875 49.90625 32.71875 49.90625  Q 36.921875 49.90625 40.09375 48.140625  Q 43.265625 46.390625 45.40625 43.1875  Q 47.5625 39.984375 48.625 35.46875  Q 49.703125 30.953125 49.703125 25.390625  z M 41.015625 25  Q 41.015625 28.859375 40.453125 32.078125  Q 39.890625 35.296875 38.671875 37.59375  Q 37.453125 39.890625 35.546875 41.1875  Q 33.640625 42.484375 31 42.484375  Q 29.390625 42.484375 27.734375 41.96875  Q 26.078125 41.453125 24.296875 40.25  Q 22.515625 39.0625 20.53125 37.078125  Q 18.5625 35.109375 16.3125 32.171875  L 16.3125 8.40625  Q 18.65625 7.421875 21.234375 6.859375  Q 23.828125 6.296875 26.3125 6.296875  Q 33.203125 6.296875 37.109375 10.953125  Q 41.015625 15.625 41.015625 25  z \" id=\"Consolas-112\"/>\n",
       "     </defs>\n",
       "     <use xlink:href=\"#Consolas-112\"/>\n",
       "    </g>\n",
       "   </g>\n",
       "   <g id=\"text_22\">\n",
       "    <!-- y -->\n",
       "    <g style=\"fill:#a40227;\" transform=\"translate(144.0756 9.451406)scale(0.13 -0.13)\">\n",
       "     <defs>\n",
       "      <path d=\"M 51.421875 49.03125  L 34.71875 5.171875  Q 32.125 -1.515625 29.359375 -6.34375  Q 26.609375 -11.1875 23.328125 -14.28125  Q 20.0625 -17.390625 16.15625 -18.84375  Q 12.25 -20.3125 7.421875 -20.3125  Q 6.15625 -20.3125 5.125 -20.265625  Q 4.109375 -20.21875 2.875 -20.125  L 2.875 -12.40625  Q 3.953125 -12.546875 5.21875 -12.671875  Q 6.5 -12.796875 7.90625 -12.796875  Q 10.25 -12.796875 12.28125 -12.109375  Q 14.3125 -11.421875 16.109375 -9.875  Q 17.921875 -8.34375 19.578125 -5.90625  Q 21.234375 -3.46875 22.796875 0  L 3.21875 49.03125  L 12.890625 49.03125  L 25.296875 16.609375  L 27.78125 8.984375  L 30.609375 16.796875  L 42.09375 49.03125  z \" id=\"Consolas-121\"/>\n",
       "     </defs>\n",
       "     <use xlink:href=\"#Consolas-121\"/>\n",
       "    </g>\n",
       "   </g>\n",
       "   <g id=\"text_23\">\n",
       "    <!-- ( -->\n",
       "    <g style=\"fill:#a40227;\" transform=\"translate(150.6042 9.451406)scale(0.13 -0.13)\">\n",
       "     <defs>\n",
       "      <path d=\"M 37.15625 -20.515625  Q 14.65625 0.34375 14.65625 25.59375  Q 14.65625 31.5 15.84375 37.375  Q 17.046875 43.265625 19.703125 49.171875  Q 22.359375 55.078125 26.734375 60.984375  Q 31.109375 66.890625 37.359375 72.703125  L 42.28125 67.671875  Q 23.34375 48.96875 23.34375 26.21875  Q 23.34375 14.890625 28.125 4.4375  Q 32.90625 -6 42.28125 -15.28125  z \" id=\"Consolas-40\"/>\n",
       "     </defs>\n",
       "     <use xlink:href=\"#Consolas-40\"/>\n",
       "    </g>\n",
       "   </g>\n",
       "   <g id=\"text_24\">\n",
       "    <!-- y -->\n",
       "    <g style=\"fill:#444443;\" transform=\"translate(157.1328 9.451406)scale(0.13 -0.13)\">\n",
       "     <use xlink:href=\"#Consolas-121\"/>\n",
       "    </g>\n",
       "   </g>\n",
       "   <g id=\"text_25\">\n",
       "    <!-- _ -->\n",
       "    <g style=\"fill:#444443;\" transform=\"translate(163.6614 9.451406)scale(0.13 -0.13)\">\n",
       "     <use xlink:href=\"#Consolas-95\"/>\n",
       "    </g>\n",
       "   </g>\n",
       "   <g id=\"text_26\">\n",
       "    <!-- p -->\n",
       "    <g style=\"fill:#444443;\" transform=\"translate(170.19 9.451406)scale(0.13 -0.13)\">\n",
       "     <use xlink:href=\"#Consolas-112\"/>\n",
       "    </g>\n",
       "   </g>\n",
       "   <g id=\"text_27\">\n",
       "    <!-- r -->\n",
       "    <g style=\"fill:#444443;\" transform=\"translate(176.7186 9.451406)scale(0.13 -0.13)\">\n",
       "     <use xlink:href=\"#Consolas-114\"/>\n",
       "    </g>\n",
       "   </g>\n",
       "   <g id=\"text_28\">\n",
       "    <!-- e -->\n",
       "    <g style=\"fill:#444443;\" transform=\"translate(183.2472 9.451406)scale(0.13 -0.13)\">\n",
       "     <use xlink:href=\"#Consolas-101\"/>\n",
       "    </g>\n",
       "   </g>\n",
       "   <g id=\"text_29\">\n",
       "    <!-- d -->\n",
       "    <g style=\"fill:#444443;\" transform=\"translate(189.7758 9.451406)scale(0.13 -0.13)\">\n",
       "     <defs>\n",
       "      <path d=\"M 5.328125 23.484375  Q 5.328125 29.734375 7.03125 34.59375  Q 8.734375 39.453125 11.890625 42.796875  Q 15.046875 46.140625 19.453125 47.875  Q 23.875 49.609375 29.296875 49.609375  Q 31.640625 49.609375 33.90625 49.3125  Q 36.1875 49.03125 38.375 48.390625  L 38.375 69  L 46.921875 69  L 46.921875 0  L 39.3125 0  L 39.015625 9.28125  Q 35.453125 4.109375 31.296875 1.609375  Q 27.15625 -0.875 22.3125 -0.875  Q 18.109375 -0.875 14.90625 0.875  Q 11.71875 2.640625 9.59375 5.828125  Q 7.46875 9.03125 6.390625 13.515625  Q 5.328125 18.015625 5.328125 23.484375  z M 14.015625 24.03125  Q 14.015625 15.140625 16.625 10.765625  Q 19.234375 6.390625 24.03125 6.390625  Q 27.25 6.390625 30.828125 9.265625  Q 34.421875 12.15625 38.375 17.828125  L 38.375 40.578125  Q 36.28125 41.546875 33.734375 42.0625  Q 31.203125 42.578125 28.71875 42.578125  Q 21.78125 42.578125 17.890625 38.078125  Q 14.015625 33.59375 14.015625 24.03125  z \" id=\"Consolas-100\"/>\n",
       "     </defs>\n",
       "     <use xlink:href=\"#Consolas-100\"/>\n",
       "    </g>\n",
       "   </g>\n",
       "   <g id=\"text_30\">\n",
       "    <!-- , -->\n",
       "    <g style=\"fill:#444443;\" transform=\"translate(196.3044 9.451406)scale(0.13 -0.13)\">\n",
       "     <defs>\n",
       "      <path d=\"M 11.625 -10.015625  Q 14.109375 -10.109375 16.453125 -9.5625  Q 18.796875 -9.03125 20.578125 -7.984375  Q 22.359375 -6.9375 23.4375 -5.375  Q 24.515625 -3.8125 24.515625 -1.8125  Q 24.515625 0.25 23.796875 1.515625  Q 23.09375 2.78125 22.21875 3.859375  Q 21.34375 4.9375 20.625 6.15625  Q 19.921875 7.375 19.921875 9.421875  Q 19.921875 10.453125 20.3125 11.578125  Q 20.703125 12.703125 21.5 13.625  Q 22.3125 14.546875 23.5625 15.125  Q 24.8125 15.71875 26.515625 15.71875  Q 28.21875 15.71875 29.796875 15.015625  Q 31.390625 14.3125 32.59375 12.84375  Q 33.796875 11.375 34.5 9.171875  Q 35.203125 6.984375 35.203125 4  Q 35.203125 -0.046875 33.71875 -3.78125  Q 32.234375 -7.515625 29.265625 -10.390625  Q 26.3125 -13.28125 21.890625 -14.984375  Q 17.484375 -16.703125 11.625 -16.703125  z \" id=\"Consolas-44\"/>\n",
       "     </defs>\n",
       "     <use xlink:href=\"#Consolas-44\"/>\n",
       "    </g>\n",
       "   </g>\n",
       "   <g id=\"text_31\">\n",
       "    <!--   -->\n",
       "    <g style=\"fill:#b4b4b4;\" transform=\"translate(202.833 9.451406)scale(0.13 -0.13)\">\n",
       "     <use xlink:href=\"#Consolas-32\"/>\n",
       "    </g>\n",
       "   </g>\n",
       "   <g id=\"text_32\">\n",
       "    <!-- y -->\n",
       "    <g style=\"fill:#444443;\" transform=\"translate(209.3616 9.451406)scale(0.13 -0.13)\">\n",
       "     <use xlink:href=\"#Consolas-121\"/>\n",
       "    </g>\n",
       "   </g>\n",
       "   <g id=\"text_33\">\n",
       "    <!-- _ -->\n",
       "    <g style=\"fill:#444443;\" transform=\"translate(215.8902 9.451406)scale(0.13 -0.13)\">\n",
       "     <use xlink:href=\"#Consolas-95\"/>\n",
       "    </g>\n",
       "   </g>\n",
       "   <g id=\"text_34\">\n",
       "    <!-- t -->\n",
       "    <g style=\"fill:#444443;\" transform=\"translate(222.4188 9.451406)scale(0.13 -0.13)\">\n",
       "     <use xlink:href=\"#Consolas-116\"/>\n",
       "    </g>\n",
       "   </g>\n",
       "   <g id=\"text_35\">\n",
       "    <!-- r -->\n",
       "    <g style=\"fill:#444443;\" transform=\"translate(228.9474 9.451406)scale(0.13 -0.13)\">\n",
       "     <use xlink:href=\"#Consolas-114\"/>\n",
       "    </g>\n",
       "   </g>\n",
       "   <g id=\"text_36\">\n",
       "    <!-- a -->\n",
       "    <g style=\"fill:#444443;\" transform=\"translate(235.476 9.451406)scale(0.13 -0.13)\">\n",
       "     <defs>\n",
       "      <path d=\"M 39.3125 0  L 39.109375 6.59375  Q 35.109375 2.640625 30.984375 0.875  Q 26.859375 -0.875 22.3125 -0.875  Q 18.109375 -0.875 15.125 0.1875  Q 12.15625 1.265625 10.21875 3.140625  Q 8.296875 5.03125 7.390625 7.5625  Q 6.5 10.109375 6.5 13.09375  Q 6.5 20.453125 11.984375 24.625  Q 17.484375 28.8125 28.21875 28.8125  L 38.375 28.8125  L 38.375 33.109375  Q 38.375 37.453125 35.59375 40.0625  Q 32.8125 42.671875 27.09375 42.671875  Q 22.953125 42.671875 18.921875 41.75  Q 14.890625 40.828125 10.59375 39.109375  L 10.59375 46.78125  Q 12.203125 47.359375 14.171875 47.921875  Q 16.15625 48.484375 18.359375 48.921875  Q 20.5625 49.359375 22.953125 49.625  Q 25.34375 49.90625 27.78125 49.90625  Q 32.234375 49.90625 35.796875 48.921875  Q 39.359375 47.953125 41.8125 45.953125  Q 44.28125 43.953125 45.59375 40.921875  Q 46.921875 37.890625 46.921875 33.796875  L 46.921875 0  z M 38.375 22.3125  L 27.59375 22.3125  Q 24.421875 22.3125 22.125 21.671875  Q 19.828125 21.046875 18.359375 19.875  Q 16.890625 18.703125 16.1875 17.0625  Q 15.484375 15.4375 15.484375 13.375  Q 15.484375 11.96875 15.921875 10.671875  Q 16.359375 9.375 17.328125 8.375  Q 18.3125 7.375 19.875 6.78125  Q 21.4375 6.203125 23.6875 6.203125  Q 26.609375 6.203125 30.390625 7.984375  Q 34.1875 9.765625 38.375 13.625  z \" id=\"Consolas-97\"/>\n",
       "     </defs>\n",
       "     <use xlink:href=\"#Consolas-97\"/>\n",
       "    </g>\n",
       "   </g>\n",
       "   <g id=\"text_37\">\n",
       "    <!-- i -->\n",
       "    <g style=\"fill:#444443;\" transform=\"translate(242.0046 9.451406)scale(0.13 -0.13)\">\n",
       "     <defs>\n",
       "      <path d=\"M 24.515625 42  L 10.015625 42  L 10.015625 49.03125  L 33.109375 49.03125  L 33.109375 7.078125  L 47.703125 7.078125  L 47.703125 0  L 8.40625 0  L 8.40625 7.078125  L 24.515625 7.078125  z M 27.484375 69.578125  Q 28.90625 69.578125 30.125 69.0625  Q 31.34375 68.5625 32.25 67.625  Q 33.15625 66.703125 33.671875 65.5  Q 34.1875 64.3125 34.1875 62.890625  Q 34.1875 61.53125 33.671875 60.296875  Q 33.15625 59.078125 32.25 58.15625  Q 31.34375 57.234375 30.125 56.71875  Q 28.90625 56.203125 27.484375 56.203125  Q 26.078125 56.203125 24.859375 56.71875  Q 23.640625 57.234375 22.734375 58.15625  Q 21.828125 59.078125 21.3125 60.296875  Q 20.796875 61.53125 20.796875 62.890625  Q 20.796875 64.3125 21.3125 65.5  Q 21.828125 66.703125 22.734375 67.625  Q 23.640625 68.5625 24.859375 69.0625  Q 26.078125 69.578125 27.484375 69.578125  z \" id=\"Consolas-105\"/>\n",
       "     </defs>\n",
       "     <use xlink:href=\"#Consolas-105\"/>\n",
       "    </g>\n",
       "   </g>\n",
       "   <g id=\"text_38\">\n",
       "    <!-- n -->\n",
       "    <g style=\"fill:#444443;\" transform=\"translate(248.5332 9.451406)scale(0.13 -0.13)\">\n",
       "     <use xlink:href=\"#Consolas-110\"/>\n",
       "    </g>\n",
       "   </g>\n",
       "   <g id=\"text_39\">\n",
       "    <!-- ) -->\n",
       "    <g style=\"fill:#a40227;\" transform=\"translate(255.0618 9.451406)scale(0.13 -0.13)\">\n",
       "     <defs>\n",
       "      <path d=\"M 17.828125 72.703125  Q 40.328125 51.859375 40.328125 26.3125  Q 40.328125 21.046875 39.25 15.375  Q 38.1875 9.71875 35.59375 3.78125  Q 33.015625 -2.15625 28.640625 -8.25  Q 24.265625 -14.359375 17.625 -20.515625  L 12.703125 -15.484375  Q 22.21875 -6.0625 26.90625 4.1875  Q 31.59375 14.453125 31.59375 25.6875  Q 31.59375 48.921875 12.703125 67.484375  z \" id=\"Consolas-41\"/>\n",
       "     </defs>\n",
       "     <use xlink:href=\"#Consolas-41\"/>\n",
       "    </g>\n",
       "   </g>\n",
       "   <g id=\"text_40\">\n",
       "    <!-- 31 -->\n",
       "    <g transform=\"translate(163.5048 39.054949)rotate(-90)scale(0.09 -0.09)\">\n",
       "     <defs>\n",
       "      <path d=\"M 4.203125 18.890625  L 12.984375 20.0625  Q 14.5 12.59375 18.140625 9.296875  Q 21.78125 6 27 6  Q 33.203125 6 37.46875 10.296875  Q 41.75 14.59375 41.75 20.953125  Q 41.75 27 37.796875 30.921875  Q 33.84375 34.859375 27.734375 34.859375  Q 25.25 34.859375 21.53125 33.890625  L 22.515625 41.609375  Q 23.390625 41.5 23.921875 41.5  Q 29.546875 41.5 34.03125 44.421875  Q 38.53125 47.359375 38.53125 53.46875  Q 38.53125 58.296875 35.25 61.46875  Q 31.984375 64.65625 26.8125 64.65625  Q 21.6875 64.65625 18.265625 61.421875  Q 14.84375 58.203125 13.875 51.765625  L 5.078125 53.328125  Q 6.6875 62.15625 12.390625 67.015625  Q 18.109375 71.875 26.609375 71.875  Q 32.46875 71.875 37.390625 69.359375  Q 42.328125 66.84375 44.9375 62.5  Q 47.5625 58.15625 47.5625 53.265625  Q 47.5625 48.640625 45.0625 44.828125  Q 42.578125 41.015625 37.703125 38.765625  Q 44.046875 37.3125 47.5625 32.6875  Q 51.078125 28.078125 51.078125 21.140625  Q 51.078125 11.765625 44.234375 5.25  Q 37.40625 -1.265625 26.953125 -1.265625  Q 17.53125 -1.265625 11.296875 4.34375  Q 5.078125 9.96875 4.203125 18.890625  z \" id=\"ArialMT-51\"/>\n",
       "      <path d=\"M 37.25 0  L 28.46875 0  L 28.46875 56  Q 25.296875 52.984375 20.140625 49.953125  Q 14.984375 46.921875 10.890625 45.40625  L 10.890625 53.90625  Q 18.265625 57.375 23.78125 62.296875  Q 29.296875 67.234375 31.59375 71.875  L 37.25 71.875  z \" id=\"ArialMT-49\"/>\n",
       "     </defs>\n",
       "     <use xlink:href=\"#ArialMT-51\"/>\n",
       "     <use x=\"55.615234\" xlink:href=\"#ArialMT-49\"/>\n",
       "    </g>\n",
       "   </g>\n",
       "   <g id=\"text_41\">\n",
       "    <!-- 3 -->\n",
       "    <g transform=\"translate(174.216178 21.560896)scale(0.09 -0.09)\">\n",
       "     <use xlink:href=\"#ArialMT-51\"/>\n",
       "    </g>\n",
       "   </g>\n",
       "   <g id=\"text_42\">\n",
       "    <!-- 11712 -->\n",
       "    <g transform=\"translate(220.031466 21.560896)scale(0.09 -0.09)\">\n",
       "     <defs>\n",
       "      <path d=\"M 4.734375 62.203125  L 4.734375 70.65625  L 51.078125 70.65625  L 51.078125 63.8125  Q 44.234375 56.546875 37.515625 44.484375  Q 30.8125 32.421875 27.15625 19.671875  Q 24.515625 10.6875 23.78125 0  L 14.75 0  Q 14.890625 8.453125 18.0625 20.40625  Q 21.234375 32.375 27.171875 43.484375  Q 33.109375 54.59375 39.796875 62.203125  z \" id=\"ArialMT-55\"/>\n",
       "      <path d=\"M 50.34375 8.453125  L 50.34375 0  L 3.03125 0  Q 2.9375 3.171875 4.046875 6.109375  Q 5.859375 10.9375 9.828125 15.625  Q 13.8125 20.3125 21.34375 26.46875  Q 33.015625 36.03125 37.109375 41.625  Q 41.21875 47.21875 41.21875 52.203125  Q 41.21875 57.421875 37.46875 61  Q 33.734375 64.59375 27.734375 64.59375  Q 21.390625 64.59375 17.578125 60.78125  Q 13.765625 56.984375 13.71875 50.25  L 4.6875 51.171875  Q 5.609375 61.28125 11.65625 66.578125  Q 17.71875 71.875 27.9375 71.875  Q 38.234375 71.875 44.234375 66.15625  Q 50.25 60.453125 50.25 52  Q 50.25 47.703125 48.484375 43.546875  Q 46.734375 39.40625 42.65625 34.8125  Q 38.578125 30.21875 29.109375 22.21875  Q 21.1875 15.578125 18.9375 13.203125  Q 16.703125 10.84375 15.234375 8.453125  z \" id=\"ArialMT-50\"/>\n",
       "     </defs>\n",
       "     <use xlink:href=\"#ArialMT-49\"/>\n",
       "     <use x=\"48.240234\" xlink:href=\"#ArialMT-49\"/>\n",
       "     <use x=\"103.855469\" xlink:href=\"#ArialMT-55\"/>\n",
       "     <use x=\"159.470703\" xlink:href=\"#ArialMT-49\"/>\n",
       "     <use x=\"215.085938\" xlink:href=\"#ArialMT-50\"/>\n",
       "    </g>\n",
       "   </g>\n",
       "  </g>\n",
       " </g>\n",
       " <defs>\n",
       "  <clipPath id=\"p24ee5a1948\">\n",
       "   <rect height=\"41.491069\" width=\"261.5904\" x=\"0\" y=\"4.504646\"/>\n",
       "  </clipPath>\n",
       " </defs>\n",
       "</svg>"
      ],
      "text/plain": [
       "<IPython.core.display.SVG object>"
      ]
     },
     "metadata": {},
     "output_type": "display_data"
    },
    {
     "ename": "ValueError",
     "evalue": "Expected input batch_size (31) to match target batch_size (11712).\nCause: F.cross_entropy(y_pred, y_train) tensor arg y_pred w/shape [31, 3], arg y_train w/shape [11712]",
     "output_type": "error",
     "traceback": [
      "\u001b[0;31m---------------------------------------------------------------------------\u001b[0m",
      "\u001b[0;31mValueError\u001b[0m                                Traceback (most recent call last)",
      "\u001b[0;32m<ipython-input-262-41a2016e4841>\u001b[0m in \u001b[0;36m<module>\u001b[0;34m\u001b[0m\n\u001b[1;32m      1\u001b[0m \u001b[0;32mwith\u001b[0m \u001b[0mtsensor\u001b[0m\u001b[0;34m.\u001b[0m\u001b[0mclarify\u001b[0m\u001b[0;34m(\u001b[0m\u001b[0;34m)\u001b[0m\u001b[0;34m:\u001b[0m\u001b[0;34m\u001b[0m\u001b[0;34m\u001b[0m\u001b[0m\n\u001b[0;32m----> 2\u001b[0;31m     history = ctrain_emb(model, X_train, y_train, X_test, y_test,\n\u001b[0m\u001b[1;32m      3\u001b[0m                          learning_rate = .01, nepochs=1000)\n",
      "\u001b[0;32m<ipython-input-261-46a767b39c8e>\u001b[0m in \u001b[0;36mctrain_emb\u001b[0;34m(model, X_train, y_train, X_test, y_test, learning_rate, nepochs)\u001b[0m\n\u001b[1;32m      7\u001b[0m         \u001b[0;31m# Assume model yields softmax probabilities\u001b[0m\u001b[0;34m\u001b[0m\u001b[0;34m\u001b[0m\u001b[0;34m\u001b[0m\u001b[0m\n\u001b[1;32m      8\u001b[0m         \u001b[0mprint\u001b[0m\u001b[0;34m(\u001b[0m\u001b[0;34m\"y_pred =\"\u001b[0m\u001b[0;34m,\u001b[0m \u001b[0my_pred\u001b[0m\u001b[0;34m.\u001b[0m\u001b[0mshape\u001b[0m\u001b[0;34m,\u001b[0m \u001b[0my_pred\u001b[0m\u001b[0;34m)\u001b[0m\u001b[0;34m\u001b[0m\u001b[0;34m\u001b[0m\u001b[0m\n\u001b[0;32m----> 9\u001b[0;31m         \u001b[0mloss\u001b[0m \u001b[0;34m=\u001b[0m \u001b[0mF\u001b[0m\u001b[0;34m.\u001b[0m\u001b[0mcross_entropy\u001b[0m\u001b[0;34m(\u001b[0m\u001b[0my_pred\u001b[0m\u001b[0;34m,\u001b[0m \u001b[0my_train\u001b[0m\u001b[0;34m)\u001b[0m\u001b[0;34m\u001b[0m\u001b[0;34m\u001b[0m\u001b[0m\n\u001b[0m\u001b[1;32m     10\u001b[0m         \u001b[0my_pred\u001b[0m \u001b[0;34m=\u001b[0m \u001b[0mtorch\u001b[0m\u001b[0;34m.\u001b[0m\u001b[0margmax\u001b[0m\u001b[0;34m(\u001b[0m\u001b[0my_pred\u001b[0m\u001b[0;34m,\u001b[0m \u001b[0maxis\u001b[0m\u001b[0;34m=\u001b[0m\u001b[0;36m1\u001b[0m\u001b[0;34m)\u001b[0m\u001b[0;34m\u001b[0m\u001b[0;34m\u001b[0m\u001b[0m\n\u001b[1;32m     11\u001b[0m         \u001b[0mncorrect\u001b[0m \u001b[0;34m=\u001b[0m \u001b[0mtorch\u001b[0m\u001b[0;34m.\u001b[0m\u001b[0msum\u001b[0m\u001b[0;34m(\u001b[0m\u001b[0my_pred\u001b[0m\u001b[0;34m==\u001b[0m\u001b[0my_train\u001b[0m\u001b[0;34m)\u001b[0m\u001b[0;34m\u001b[0m\u001b[0;34m\u001b[0m\u001b[0m\n",
      "\u001b[0;32m~/opt/anaconda3/lib/python3.8/site-packages/torch/nn/functional.py\u001b[0m in \u001b[0;36mcross_entropy\u001b[0;34m(input, target, weight, size_average, ignore_index, reduce, reduction)\u001b[0m\n\u001b[1;32m   2822\u001b[0m     \u001b[0;32mif\u001b[0m \u001b[0msize_average\u001b[0m \u001b[0;32mis\u001b[0m \u001b[0;32mnot\u001b[0m \u001b[0;32mNone\u001b[0m \u001b[0;32mor\u001b[0m \u001b[0mreduce\u001b[0m \u001b[0;32mis\u001b[0m \u001b[0;32mnot\u001b[0m \u001b[0;32mNone\u001b[0m\u001b[0;34m:\u001b[0m\u001b[0;34m\u001b[0m\u001b[0;34m\u001b[0m\u001b[0m\n\u001b[1;32m   2823\u001b[0m         \u001b[0mreduction\u001b[0m \u001b[0;34m=\u001b[0m \u001b[0m_Reduction\u001b[0m\u001b[0;34m.\u001b[0m\u001b[0mlegacy_get_string\u001b[0m\u001b[0;34m(\u001b[0m\u001b[0msize_average\u001b[0m\u001b[0;34m,\u001b[0m \u001b[0mreduce\u001b[0m\u001b[0;34m)\u001b[0m\u001b[0;34m\u001b[0m\u001b[0;34m\u001b[0m\u001b[0m\n\u001b[0;32m-> 2824\u001b[0;31m     \u001b[0;32mreturn\u001b[0m \u001b[0mtorch\u001b[0m\u001b[0;34m.\u001b[0m\u001b[0m_C\u001b[0m\u001b[0;34m.\u001b[0m\u001b[0m_nn\u001b[0m\u001b[0;34m.\u001b[0m\u001b[0mcross_entropy_loss\u001b[0m\u001b[0;34m(\u001b[0m\u001b[0minput\u001b[0m\u001b[0;34m,\u001b[0m \u001b[0mtarget\u001b[0m\u001b[0;34m,\u001b[0m \u001b[0mweight\u001b[0m\u001b[0;34m,\u001b[0m \u001b[0m_Reduction\u001b[0m\u001b[0;34m.\u001b[0m\u001b[0mget_enum\u001b[0m\u001b[0;34m(\u001b[0m\u001b[0mreduction\u001b[0m\u001b[0;34m)\u001b[0m\u001b[0;34m,\u001b[0m \u001b[0mignore_index\u001b[0m\u001b[0;34m)\u001b[0m\u001b[0;34m\u001b[0m\u001b[0;34m\u001b[0m\u001b[0m\n\u001b[0m\u001b[1;32m   2825\u001b[0m \u001b[0;34m\u001b[0m\u001b[0m\n\u001b[1;32m   2826\u001b[0m \u001b[0;34m\u001b[0m\u001b[0m\n",
      "\u001b[0;31mValueError\u001b[0m: Expected input batch_size (31) to match target batch_size (11712).\nCause: F.cross_entropy(y_pred, y_train) tensor arg y_pred w/shape [31, 3], arg y_train w/shape [11712]"
     ]
    }
   ],
   "source": [
    "with tsensor.clarify():\n",
    "    history = ctrain_emb(model, X_train, y_train, X_test, y_test,\n",
    "                         learning_rate = .01, nepochs=1000)"
   ]
  },
  {
   "cell_type": "code",
   "execution_count": 171,
   "id": "0ddbe3f6-db5f-486f-a398-cdad4f2da1de",
   "metadata": {},
   "outputs": [
    {
     "name": "stdout",
     "output_type": "stream",
     "text": [
      "Training accuracy 0.805\n"
     ]
    }
   ],
   "source": [
    "y_proba = model(X_train)\n",
    "y_pred = torch.argmax(y_proba, axis=1)\n",
    "ncorrect = torch.sum(y_pred==y_train)\n",
    "train_accur = ncorrect.float() / len(y_train)\n",
    "print(f\"Training accuracy {train_accur:.3f}\")"
   ]
  },
  {
   "cell_type": "code",
   "execution_count": 172,
   "id": "514e53f0-a5ce-41f6-8058-ff1aad4cf55e",
   "metadata": {},
   "outputs": [
    {
     "name": "stdout",
     "output_type": "stream",
     "text": [
      "Validation accuracy 0.715\n"
     ]
    }
   ],
   "source": [
    "y_test_proba = model(X_test)\n",
    "y_test_pred = torch.argmax(y_test_proba, axis=1)\n",
    "ncorrect = torch.sum(y_test_pred==y_test)\n",
    "test_accur = ncorrect.float() / len(y_test)\n",
    "print(f\"Validation accuracy {test_accur:.3f}\")"
   ]
  },
  {
   "cell_type": "code",
   "execution_count": 173,
   "id": "9e05ffe4-2fab-4c00-9d94-65d660fcb49d",
   "metadata": {},
   "outputs": [
    {
     "name": "stdout",
     "output_type": "stream",
     "text": [
      "[[1668  121   61]\n",
      " [ 346  194   75]\n",
      " [ 173   59  231]]\n"
     ]
    }
   ],
   "source": [
    "conf = confusion_matrix(y_test, y_test_pred)\n",
    "print(conf)"
   ]
  },
  {
   "cell_type": "code",
   "execution_count": 174,
   "id": "0159357f-65d8-4389-a378-f66ee982b3fa",
   "metadata": {},
   "outputs": [
    {
     "data": {
      "image/png": "[encoded data removed]",
      "text/plain": [
       "<Figure size 252x216 with 1 Axes>"
      ]
     },
     "metadata": {
      "needs_background": "light"
     },
     "output_type": "display_data"
    }
   ],
   "source": [
    "plot_loss(history)"
   ]
  },
  {
   "cell_type": "code",
   "execution_count": 175,
   "id": "8511edd9-3887-449e-aa9c-591553407ab5",
   "metadata": {},
   "outputs": [
    {
     "data": {
      "image/png": "[encoded data removed]",
      "text/plain": [
       "<Figure size 252x216 with 1 Axes>"
      ]
     },
     "metadata": {
      "needs_background": "light"
     },
     "output_type": "display_data"
    }
   ],
   "source": [
    "plot_accur(history)"
   ]
  },
  {
   "cell_type": "markdown",
   "id": "4035525c-3a89-4700-bdb3-54808b6b11c0",
   "metadata": {},
   "source": [
    "## Junk drawer"
   ]
  },
  {
   "cell_type": "raw",
   "id": "176b938e-9d6c-4c35-852c-ce196e2b18f2",
   "metadata": {},
   "source": [
    "stops = set(stopwords.words(\"english\"))     \n",
    "\n",
    "def clean(text):\n",
    "    text = text.lower()\n",
    "    text = re.sub(r'^@[a-z]+', \"\", text) # delete @VirginAmerica at start\n",
    "    text = re.sub(r'[^a-z]+', \" \", text) # delete non-text\n",
    "    words = text.split(\" \")\n",
    "    words = [w.strip() for w in words if w not in stops]\n",
    "    return ' '.join(words)"
   ]
  },
  {
   "cell_type": "code",
   "execution_count": 20,
   "id": "e1d8cf08-ec5f-485d-a559-9e350b176b71",
   "metadata": {},
   "outputs": [
    {
     "ename": "NameError",
     "evalue": "name 'df' is not defined",
     "output_type": "error",
     "traceback": [
      "\u001b[0;31m---------------------------------------------------------------------------\u001b[0m",
      "\u001b[0;31mNameError\u001b[0m                                 Traceback (most recent call last)",
      "\u001b[0;32m<ipython-input-20-4f411ba19a18>\u001b[0m in \u001b[0;36m<module>\u001b[0;34m\u001b[0m\n\u001b[0;32m----> 1\u001b[0;31m \u001b[0mmax_len\u001b[0m \u001b[0;34m=\u001b[0m \u001b[0mdf\u001b[0m\u001b[0;34m[\u001b[0m\u001b[0;34m'text'\u001b[0m\u001b[0;34m]\u001b[0m\u001b[0;34m.\u001b[0m\u001b[0mapply\u001b[0m\u001b[0;34m(\u001b[0m\u001b[0mstr\u001b[0m\u001b[0;34m.\u001b[0m\u001b[0msplit\u001b[0m\u001b[0;34m)\u001b[0m\u001b[0;34m.\u001b[0m\u001b[0mapply\u001b[0m\u001b[0;34m(\u001b[0m\u001b[0mlen\u001b[0m\u001b[0;34m)\u001b[0m\u001b[0;34m.\u001b[0m\u001b[0mmax\u001b[0m\u001b[0;34m(\u001b[0m\u001b[0;34m)\u001b[0m \u001b[0;31m# max num words in a tweet\u001b[0m\u001b[0;34m\u001b[0m\u001b[0;34m\u001b[0m\u001b[0m\n\u001b[0m\u001b[1;32m      2\u001b[0m \u001b[0mmax_len\u001b[0m\u001b[0;34m\u001b[0m\u001b[0;34m\u001b[0m\u001b[0m\n",
      "\u001b[0;31mNameError\u001b[0m: name 'df' is not defined"
     ]
    }
   ],
   "source": [
    "max_len = df['text'].apply(str.split).apply(len).max() # max num words in a tweet\n",
    "max_len"
   ]
  },
  {
   "cell_type": "code",
   "execution_count": null,
   "id": "2a01d4ae-5f30-4202-bf3f-05efb7b29818",
   "metadata": {},
   "outputs": [],
   "source": [
    "vocab = sorted(set(' '.join(df['text'].values).split()))\n",
    "vocab[0:20]\n",
    "wtoi = {w:(i+1) for i,w in enumerate(vocab)}"
   ]
  },
  {
   "cell_type": "code",
   "execution_count": null,
   "id": "4dae7b89-0132-41e0-b714-71be01f67e87",
   "metadata": {},
   "outputs": [],
   "source": [
    "y = df['sentiment']\n",
    "X = torch.zeros(size=[len(df),max_len])\n",
    "for i,tweet in enumerate(df['text'].apply(str.split)):\n",
    "    word_indexes = [wtoi[w] for w in tweet]\n",
    "    pad = nn.ConstantPad1d((0,max_len-len(word_indexes)), 0)\n",
    "    X[i,:] = pad(torch.tensor(word_indexes))"
   ]
  },
  {
   "cell_type": "code",
   "execution_count": null,
   "id": "418a03a8-e9bc-436d-85d8-d755896a4a32",
   "metadata": {},
   "outputs": [],
   "source": [
    "X_train, X_test, y_train, y_test = train_test_split(X, y, test_size=0.2)"
   ]
  },
  {
   "cell_type": "code",
   "execution_count": null,
   "id": "1ff7098a-d818-4807-a4c3-c34483c269ad",
   "metadata": {},
   "outputs": [],
   "source": [
    "n = len(X_train)\n",
    "embed_sz = 20\n",
    "nclasses = len(df['sentiment'].unique()) # char output vocab\n",
    "\n",
    "print(f\"{n:,d} training records, {embed_sz} embedding size, {nclasses} target classes\")"
   ]
  },
  {
   "cell_type": "code",
   "execution_count": null,
   "id": "5b520bb1-bad7-4b81-8dc8-b61b6b227531",
   "metadata": {},
   "outputs": [],
   "source": [
    "class Embedding:\n",
    "    def __init__(self, input_size, embed_sz):\n",
    "        self.E = torch.randn(embed_sz, input_size, device=device, dtype=torch.float64, requires_grad=True) # embedding\n",
    "        self.input_size = input_size\n",
    "        self.embed_sz = embed_sz\n",
    "    def parameters(self): return [self.E]\n",
    "    def __call__(self, x):\n",
    "        if isinstance(x, int):\n",
    "            return self.E[:,x].reshape(self.embed_sz, 1)\n",
    "        # column E[i] is the embedding for char index i. same as multiple E.mm(onehot(i))\n",
    "        return self.E[:,x]"
   ]
  },
  {
   "cell_type": "code",
   "execution_count": null,
   "id": "ea15d2a0-e354-424f-a36d-008b9df9bc40",
   "metadata": {},
   "outputs": [],
   "source": [
    "class Linear:\n",
    "    def __init__(self, input_size, output_size):\n",
    "        self.V = torch.randn(output_size,  input_size, device=device, dtype=torch.float64, requires_grad=True)\n",
    "        self.by = torch.zeros(output_size, 1,          device=device, dtype=torch.float64, requires_grad=True)\n",
    "    def parameters(self): return [self.V, self.by]\n",
    "    def __call__(self, h):\n",
    "        o = self.V@h + self.by\n",
    "        o = o.T # make it input_size x output_size\n",
    "        return o"
   ]
  },
  {
   "cell_type": "code",
   "execution_count": null,
   "id": "dd1ff6b9-61e7-48e4-88b8-f6663ee3f14a",
   "metadata": {},
   "outputs": [],
   "source": [
    "torch.nonzero(X_train, as_tuple=True)"
   ]
  },
  {
   "cell_type": "code",
   "execution_count": null,
   "id": "178e9624-dd9a-4333-b1b5-03fa5592e4f3",
   "metadata": {},
   "outputs": [],
   "source": [
    "torch.nonzero(X_train)"
   ]
  },
  {
   "cell_type": "code",
   "execution_count": null,
   "id": "41906050-825b-4b22-8a20-13f14baedc20",
   "metadata": {},
   "outputs": [],
   "source": [
    "x = torch.zeros(size=(*(X_train.shape),embed_sz))\n",
    "x.shape"
   ]
  },
  {
   "cell_type": "code",
   "execution_count": null,
   "id": "d704edcd-c3f3-4a7b-b4e4-4a1d5c177396",
   "metadata": {},
   "outputs": [],
   "source": [
    "torch.unsqueeze(x,2).shape"
   ]
  },
  {
   "cell_type": "code",
   "execution_count": null,
   "id": "310c9645-b4e0-4a51-9402-22111b5a87e4",
   "metadata": {
    "tags": []
   },
   "outputs": [],
   "source": [
    "\n",
    "for i,j in zip(*torch.nonzero(X_train, as_tuple=True)):\n",
    "    print(i,j)"
   ]
  },
  {
   "cell_type": "code",
   "execution_count": null,
   "id": "5bfb5c04-4b16-47df-b2e8-addf207b83d2",
   "metadata": {},
   "outputs": [],
   "source": [
    "X_train[1,:]"
   ]
  },
  {
   "cell_type": "code",
   "execution_count": null,
   "id": "3cfd070f-9f04-4e21-b5f9-122b287ed4f8",
   "metadata": {},
   "outputs": [],
   "source": [
    "E = torch.randn(embed_sz, len(vocab), device=device, dtype=torch.float64, requires_grad=True) # embedding\n",
    "\n",
    "E[:,32].reshape(embed_sz, 1)"
   ]
  }
 ],
 "metadata": {
  "kernelspec": {
   "display_name": "Python 3",
   "language": "python",
   "name": "python3"
  },
  "language_info": {
   "codemirror_mode": {
    "name": "ipython",
    "version": 3
   },
   "file_extension": ".py",
   "mimetype": "text/x-python",
   "name": "python",
   "nbconvert_exporter": "python",
   "pygments_lexer": "ipython3",
   "version": "3.8.8"
  }
 },
 "nbformat": 4,
 "nbformat_minor": 5
}
