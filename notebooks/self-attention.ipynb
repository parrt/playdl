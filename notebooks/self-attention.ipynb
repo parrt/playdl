{
 "cells": [
  {
   "cell_type": "markdown",
   "id": "297b3b6a-7d58-448e-a2a6-9ca983b25faf",
   "metadata": {},
   "source": [
    "# Learn self-attention"
   ]
  },
  {
   "cell_type": "code",
   "execution_count": 60,
   "id": "e03c6186-e632-462f-81d9-27df9d635a23",
   "metadata": {},
   "outputs": [
    {
     "data": {
      "text/plain": [
       "device(type='cpu')"
      ]
     },
     "execution_count": 60,
     "metadata": {},
     "output_type": "execute_result"
    }
   ],
   "source": [
    "import pandas as pd\n",
    "import numpy as np\n",
    "import math\n",
    "import torch\n",
    "import torch.nn as nn\n",
    "from torch.utils.data import Dataset, DataLoader, TensorDataset\n",
    "from torch.nn.utils.rnn import pad_sequence\n",
    "import torch.nn.functional as F\n",
    "from sklearn.metrics import accuracy_score\n",
    "import matplotlib.pyplot as plt\n",
    "from sklearn.model_selection import train_test_split\n",
    "from sklearn.ensemble import RandomForestClassifier\n",
    "np.set_printoptions(precision=2, suppress=True, linewidth=3000, threshold=20000)\n",
    "from typing import Sequence\n",
    "import nltk\n",
    "from nltk.corpus import stopwords\n",
    "import re\n",
    "import string\n",
    "\n",
    "dtype = torch.float\n",
    "device = torch.device('cuda:0' if torch.cuda.is_available() else 'cpu')\n",
    "device"
   ]
  },
  {
   "cell_type": "code",
   "execution_count": 61,
   "id": "820d3e90-edef-4d45-8e27-f38f14b2dc89",
   "metadata": {},
   "outputs": [
    {
     "data": {
      "text/html": [
       "<div>\n",
       "<style scoped>\n",
       "    .dataframe tbody tr th:only-of-type {\n",
       "        vertical-align: middle;\n",
       "    }\n",
       "\n",
       "    .dataframe tbody tr th {\n",
       "        vertical-align: top;\n",
       "    }\n",
       "\n",
       "    .dataframe thead th {\n",
       "        text-align: right;\n",
       "    }\n",
       "</style>\n",
       "<table border=\"1\" class=\"dataframe\">\n",
       "  <thead>\n",
       "    <tr style=\"text-align: right;\">\n",
       "      <th></th>\n",
       "      <th>text</th>\n",
       "      <th>sentiment</th>\n",
       "    </tr>\n",
       "  </thead>\n",
       "  <tbody>\n",
       "    <tr>\n",
       "      <th>0</th>\n",
       "      <td>@VirginAmerica What @dhepburn said.</td>\n",
       "      <td>1</td>\n",
       "    </tr>\n",
       "    <tr>\n",
       "      <th>1</th>\n",
       "      <td>@VirginAmerica plus you've added commercials t...</td>\n",
       "      <td>2</td>\n",
       "    </tr>\n",
       "    <tr>\n",
       "      <th>2</th>\n",
       "      <td>@VirginAmerica I didn't today... Must mean I n...</td>\n",
       "      <td>1</td>\n",
       "    </tr>\n",
       "    <tr>\n",
       "      <th>3</th>\n",
       "      <td>@VirginAmerica it's really aggressive to blast...</td>\n",
       "      <td>0</td>\n",
       "    </tr>\n",
       "    <tr>\n",
       "      <th>4</th>\n",
       "      <td>@VirginAmerica and it's a really big bad thing...</td>\n",
       "      <td>0</td>\n",
       "    </tr>\n",
       "    <tr>\n",
       "      <th>...</th>\n",
       "      <td>...</td>\n",
       "      <td>...</td>\n",
       "    </tr>\n",
       "    <tr>\n",
       "      <th>14635</th>\n",
       "      <td>@AmericanAir thank you we got on a different f...</td>\n",
       "      <td>2</td>\n",
       "    </tr>\n",
       "    <tr>\n",
       "      <th>14636</th>\n",
       "      <td>@AmericanAir leaving over 20 minutes Late Flig...</td>\n",
       "      <td>0</td>\n",
       "    </tr>\n",
       "    <tr>\n",
       "      <th>14637</th>\n",
       "      <td>@AmericanAir Please bring American Airlines to...</td>\n",
       "      <td>1</td>\n",
       "    </tr>\n",
       "    <tr>\n",
       "      <th>14638</th>\n",
       "      <td>@AmericanAir you have my money, you change my ...</td>\n",
       "      <td>0</td>\n",
       "    </tr>\n",
       "    <tr>\n",
       "      <th>14639</th>\n",
       "      <td>@AmericanAir we have 8 ppl so we need 2 know h...</td>\n",
       "      <td>1</td>\n",
       "    </tr>\n",
       "  </tbody>\n",
       "</table>\n",
       "<p>14640 rows × 2 columns</p>\n",
       "</div>"
      ],
      "text/plain": [
       "                                                    text  sentiment\n",
       "0                    @VirginAmerica What @dhepburn said.          1\n",
       "1      @VirginAmerica plus you've added commercials t...          2\n",
       "2      @VirginAmerica I didn't today... Must mean I n...          1\n",
       "3      @VirginAmerica it's really aggressive to blast...          0\n",
       "4      @VirginAmerica and it's a really big bad thing...          0\n",
       "...                                                  ...        ...\n",
       "14635  @AmericanAir thank you we got on a different f...          2\n",
       "14636  @AmericanAir leaving over 20 minutes Late Flig...          0\n",
       "14637  @AmericanAir Please bring American Airlines to...          1\n",
       "14638  @AmericanAir you have my money, you change my ...          0\n",
       "14639  @AmericanAir we have 8 ppl so we need 2 know h...          1\n",
       "\n",
       "[14640 rows x 2 columns]"
      ]
     },
     "execution_count": 61,
     "metadata": {},
     "output_type": "execute_result"
    }
   ],
   "source": [
    "df = pd.read_csv(\"/Users/parrt/data/airline-tweets.csv\")\n",
    "df = df[['text','airline_sentiment']]\n",
    "df.columns = ['text','sentiment']\n",
    "df['sentiment'] = df['sentiment'].map({'negative':0, 'neutral':1, 'positive':2})\n",
    "df"
   ]
  },
  {
   "cell_type": "code",
   "execution_count": 62,
   "id": "1a3bd7bc-7200-4740-a984-8312c7d83354",
   "metadata": {},
   "outputs": [],
   "source": [
    "stops = set(stopwords.words(\"english\"))     \n",
    "\n",
    "def clean(text):\n",
    "    text = text.lower()\n",
    "    text = re.sub(r'^@[a-z]+', \"\", text) # delete @VirginAmerica at start\n",
    "    text = re.sub(r'[^a-z]+', \" \", text) # delete non-text\n",
    "    words = text.split(\" \")\n",
    "    words = [w.strip() for w in words if w not in stops]\n",
    "    return ' '.join(words)"
   ]
  },
  {
   "cell_type": "code",
   "execution_count": 63,
   "id": "b13e7ec8-2fdf-4ba2-a3a2-e061dbf11c26",
   "metadata": {},
   "outputs": [
    {
     "data": {
      "text/html": [
       "<div>\n",
       "<style scoped>\n",
       "    .dataframe tbody tr th:only-of-type {\n",
       "        vertical-align: middle;\n",
       "    }\n",
       "\n",
       "    .dataframe tbody tr th {\n",
       "        vertical-align: top;\n",
       "    }\n",
       "\n",
       "    .dataframe thead th {\n",
       "        text-align: right;\n",
       "    }\n",
       "</style>\n",
       "<table border=\"1\" class=\"dataframe\">\n",
       "  <thead>\n",
       "    <tr style=\"text-align: right;\">\n",
       "      <th></th>\n",
       "      <th>text</th>\n",
       "      <th>sentiment</th>\n",
       "    </tr>\n",
       "  </thead>\n",
       "  <tbody>\n",
       "    <tr>\n",
       "      <th>0</th>\n",
       "      <td>dhepburn said</td>\n",
       "      <td>1</td>\n",
       "    </tr>\n",
       "    <tr>\n",
       "      <th>1</th>\n",
       "      <td>plus added commercials experience tacky</td>\n",
       "      <td>2</td>\n",
       "    </tr>\n",
       "    <tr>\n",
       "      <th>2</th>\n",
       "      <td>today must mean need take another trip</td>\n",
       "      <td>1</td>\n",
       "    </tr>\n",
       "    <tr>\n",
       "      <th>3</th>\n",
       "      <td>really aggressive blast obnoxious entertainme...</td>\n",
       "      <td>0</td>\n",
       "    </tr>\n",
       "    <tr>\n",
       "      <th>4</th>\n",
       "      <td>really big bad thing</td>\n",
       "      <td>0</td>\n",
       "    </tr>\n",
       "    <tr>\n",
       "      <th>...</th>\n",
       "      <td>...</td>\n",
       "      <td>...</td>\n",
       "    </tr>\n",
       "    <tr>\n",
       "      <th>14635</th>\n",
       "      <td>thank got different flight chicago</td>\n",
       "      <td>2</td>\n",
       "    </tr>\n",
       "    <tr>\n",
       "      <th>14636</th>\n",
       "      <td>leaving minutes late flight warnings communic...</td>\n",
       "      <td>0</td>\n",
       "    </tr>\n",
       "    <tr>\n",
       "      <th>14637</th>\n",
       "      <td>please bring american airlines blackberry</td>\n",
       "      <td>1</td>\n",
       "    </tr>\n",
       "    <tr>\n",
       "      <th>14638</th>\n",
       "      <td>money change flight answer phones suggestions...</td>\n",
       "      <td>0</td>\n",
       "    </tr>\n",
       "    <tr>\n",
       "      <th>14639</th>\n",
       "      <td>ppl need know many seats next flight plz put ...</td>\n",
       "      <td>1</td>\n",
       "    </tr>\n",
       "  </tbody>\n",
       "</table>\n",
       "<p>14640 rows × 2 columns</p>\n",
       "</div>"
      ],
      "text/plain": [
       "                                                    text  sentiment\n",
       "0                                         dhepburn said           1\n",
       "1               plus added commercials experience tacky           2\n",
       "2                today must mean need take another trip           1\n",
       "3       really aggressive blast obnoxious entertainme...          0\n",
       "4                                   really big bad thing          0\n",
       "...                                                  ...        ...\n",
       "14635                thank got different flight chicago           2\n",
       "14636   leaving minutes late flight warnings communic...          0\n",
       "14637         please bring american airlines blackberry           1\n",
       "14638   money change flight answer phones suggestions...          0\n",
       "14639   ppl need know many seats next flight plz put ...          1\n",
       "\n",
       "[14640 rows x 2 columns]"
      ]
     },
     "execution_count": 63,
     "metadata": {},
     "output_type": "execute_result"
    }
   ],
   "source": [
    "df['text'] = df['text'].apply(clean)\n",
    "df"
   ]
  },
  {
   "cell_type": "code",
   "execution_count": 64,
   "id": "e1d8cf08-ec5f-485d-a559-9e350b176b71",
   "metadata": {},
   "outputs": [
    {
     "data": {
      "text/plain": [
       "22"
      ]
     },
     "execution_count": 64,
     "metadata": {},
     "output_type": "execute_result"
    }
   ],
   "source": [
    "max_len = df['text'].apply(str.split).apply(len).max() # max num words in a tweet\n",
    "max_len"
   ]
  },
  {
   "cell_type": "code",
   "execution_count": 65,
   "id": "2a01d4ae-5f30-4202-bf3f-05efb7b29818",
   "metadata": {},
   "outputs": [],
   "source": [
    "vocab = sorted(set(' '.join(df['text'].values).split()))\n",
    "vocab[0:20]\n",
    "wtoi = {w:(i+1) for i,w in enumerate(vocab)}"
   ]
  },
  {
   "cell_type": "code",
   "execution_count": 66,
   "id": "4dae7b89-0132-41e0-b714-71be01f67e87",
   "metadata": {},
   "outputs": [],
   "source": [
    "y = df['sentiment']\n",
    "X = torch.zeros(size=[len(df),max_len])\n",
    "for i,tweet in enumerate(df['text'].apply(str.split)):\n",
    "    word_indexes = [wtoi[w] for w in tweet]\n",
    "    pad = nn.ConstantPad1d((0,max_len-len(word_indexes)), 0)\n",
    "    X[i,:] = pad(torch.tensor(word_indexes))"
   ]
  },
  {
   "cell_type": "code",
   "execution_count": 67,
   "id": "418a03a8-e9bc-436d-85d8-d755896a4a32",
   "metadata": {},
   "outputs": [],
   "source": [
    "X_train, X_test, y_train, y_test = train_test_split(X, y, test_size=0.2)"
   ]
  },
  {
   "cell_type": "code",
   "execution_count": 68,
   "id": "1ff7098a-d818-4807-a4c3-c34483c269ad",
   "metadata": {},
   "outputs": [
    {
     "name": "stdout",
     "output_type": "stream",
     "text": [
      "11,712 training records, 20 embedding size, 3 target classes\n"
     ]
    }
   ],
   "source": [
    "n = len(X_train)\n",
    "embed_sz = 20\n",
    "nclasses = len(df['sentiment'].unique()) # char output vocab\n",
    "\n",
    "print(f\"{n:,d} training records, {embed_sz} embedding size, {nclasses} target classes\")"
   ]
  },
  {
   "cell_type": "code",
   "execution_count": 69,
   "id": "5b520bb1-bad7-4b81-8dc8-b61b6b227531",
   "metadata": {},
   "outputs": [],
   "source": [
    "class Embedding:\n",
    "    def __init__(self, input_size, embed_sz):\n",
    "        self.E = torch.randn(embed_sz, input_size, device=device, dtype=torch.float64, requires_grad=True) # embedding\n",
    "        self.input_size = input_size\n",
    "        self.embed_sz = embed_sz\n",
    "    def parameters(self): return [self.E]\n",
    "    def __call__(self, x):\n",
    "        if isinstance(x, int):\n",
    "            return self.E[:,x].reshape(self.embed_sz, 1)\n",
    "        # column E[i] is the embedding for char index i. same as multiple E.mm(onehot(i))\n",
    "        return self.E[:,x]"
   ]
  },
  {
   "cell_type": "code",
   "execution_count": 70,
   "id": "ea15d2a0-e354-424f-a36d-008b9df9bc40",
   "metadata": {},
   "outputs": [],
   "source": [
    "class Linear:\n",
    "    def __init__(self, input_size, output_size):\n",
    "        self.V = torch.randn(output_size,  input_size, device=device, dtype=torch.float64, requires_grad=True)\n",
    "        self.by = torch.zeros(output_size, 1,          device=device, dtype=torch.float64, requires_grad=True)\n",
    "    def parameters(self): return [self.V, self.by]\n",
    "    def __call__(self, h):\n",
    "        o = self.V@h + self.by\n",
    "        o = o.T # make it input_size x output_size\n",
    "        return o"
   ]
  },
  {
   "cell_type": "code",
   "execution_count": 71,
   "id": "dd1ff6b9-61e7-48e4-88b8-f6663ee3f14a",
   "metadata": {},
   "outputs": [
    {
     "data": {
      "text/plain": [
       "(tensor([    0,     0,     0,  ..., 11711, 11711, 11711]),\n",
       " tensor([0, 1, 2,  ..., 6, 7, 8]))"
      ]
     },
     "execution_count": 71,
     "metadata": {},
     "output_type": "execute_result"
    }
   ],
   "source": [
    "torch.nonzero(X_train, as_tuple=True)"
   ]
  },
  {
   "cell_type": "code",
   "execution_count": 72,
   "id": "178e9624-dd9a-4333-b1b5-03fa5592e4f3",
   "metadata": {},
   "outputs": [
    {
     "data": {
      "text/plain": [
       "tensor([[    0,     0],\n",
       "        [    0,     1],\n",
       "        [    0,     2],\n",
       "        ...,\n",
       "        [11711,     6],\n",
       "        [11711,     7],\n",
       "        [11711,     8]])"
      ]
     },
     "execution_count": 72,
     "metadata": {},
     "output_type": "execute_result"
    }
   ],
   "source": [
    "torch.nonzero(X_train)"
   ]
  },
  {
   "cell_type": "code",
   "execution_count": 84,
   "id": "41906050-825b-4b22-8a20-13f14baedc20",
   "metadata": {},
   "outputs": [
    {
     "data": {
      "text/plain": [
       "torch.Size([11712, 22, 20])"
      ]
     },
     "execution_count": 84,
     "metadata": {},
     "output_type": "execute_result"
    }
   ],
   "source": [
    "x = torch.zeros(size=(*(X_train.shape),embed_sz))\n",
    "x.shape"
   ]
  },
  {
   "cell_type": "code",
   "execution_count": 78,
   "id": "d704edcd-c3f3-4a7b-b4e4-4a1d5c177396",
   "metadata": {},
   "outputs": [
    {
     "data": {
      "text/plain": [
       "torch.Size([3, 3, 1])"
      ]
     },
     "execution_count": 78,
     "metadata": {},
     "output_type": "execute_result"
    }
   ],
   "source": [
    "torch.unsqueeze(x,2).shape"
   ]
  },
  {
   "cell_type": "code",
   "execution_count": null,
   "id": "310c9645-b4e0-4a51-9402-22111b5a87e4",
   "metadata": {
    "tags": []
   },
   "outputs": [],
   "source": [
    "\n",
    "for i,j in zip(*torch.nonzero(X_train, as_tuple=True)):\n",
    "    print(i,j)"
   ]
  },
  {
   "cell_type": "code",
   "execution_count": null,
   "id": "5bfb5c04-4b16-47df-b2e8-addf207b83d2",
   "metadata": {},
   "outputs": [],
   "source": [
    "X_train[1,:]"
   ]
  },
  {
   "cell_type": "code",
   "execution_count": null,
   "id": "3cfd070f-9f04-4e21-b5f9-122b287ed4f8",
   "metadata": {},
   "outputs": [],
   "source": [
    "E = torch.randn(embed_sz, len(vocab), device=device, dtype=torch.float64, requires_grad=True) # embedding\n",
    "\n",
    "E[:,32].reshape(embed_sz, 1)"
   ]
  },
  {
   "cell_type": "code",
   "execution_count": null,
   "id": "f5e2de54-c859-46f1-811e-8919f272051d",
   "metadata": {},
   "outputs": [],
   "source": []
  }
 ],
 "metadata": {
  "kernelspec": {
   "display_name": "Python 3",
   "language": "python",
   "name": "python3"
  },
  "language_info": {
   "codemirror_mode": {
    "name": "ipython",
    "version": 3
   },
   "file_extension": ".py",
   "mimetype": "text/x-python",
   "name": "python",
   "nbconvert_exporter": "python",
   "pygments_lexer": "ipython3",
   "version": "3.8.8"
  }
 },
 "nbformat": 4,
 "nbformat_minor": 5
}
