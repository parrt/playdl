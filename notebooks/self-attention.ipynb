{
 "cells": [
  {
   "cell_type": "markdown",
   "id": "297b3b6a-7d58-448e-a2a6-9ca983b25faf",
   "metadata": {},
   "source": [
    "# Learn self-attention"
   ]
  },
  {
   "cell_type": "code",
   "execution_count": 50,
   "id": "e03c6186-e632-462f-81d9-27df9d635a23",
   "metadata": {},
   "outputs": [
    {
     "data": {
      "text/plain": [
       "device(type='cpu')"
      ]
     },
     "execution_count": 50,
     "metadata": {},
     "output_type": "execute_result"
    }
   ],
   "source": [
    "import pandas as pd\n",
    "import numpy as np\n",
    "import math\n",
    "import torch\n",
    "import torch.nn as nn\n",
    "from torch.utils.data import Dataset, DataLoader, TensorDataset\n",
    "from torch.nn.utils.rnn import pad_sequence\n",
    "import torch.nn.functional as F\n",
    "from sklearn.metrics import accuracy_score\n",
    "import matplotlib.pyplot as plt\n",
    "from sklearn.model_selection import train_test_split\n",
    "from sklearn.ensemble import RandomForestClassifier\n",
    "np.set_printoptions(precision=2, suppress=True, linewidth=3000, threshold=20000)\n",
    "from typing import Sequence\n",
    "import nltk\n",
    "from nltk.corpus import stopwords\n",
    "import re\n",
    "import string\n",
    "\n",
    "dtype = torch.float\n",
    "device = torch.device('cuda:0' if torch.cuda.is_available() else 'cpu')\n",
    "device"
   ]
  },
  {
   "cell_type": "code",
   "execution_count": 51,
   "id": "820d3e90-edef-4d45-8e27-f38f14b2dc89",
   "metadata": {},
   "outputs": [
    {
     "data": {
      "text/html": [
       "<div>\n",
       "<style scoped>\n",
       "    .dataframe tbody tr th:only-of-type {\n",
       "        vertical-align: middle;\n",
       "    }\n",
       "\n",
       "    .dataframe tbody tr th {\n",
       "        vertical-align: top;\n",
       "    }\n",
       "\n",
       "    .dataframe thead th {\n",
       "        text-align: right;\n",
       "    }\n",
       "</style>\n",
       "<table border=\"1\" class=\"dataframe\">\n",
       "  <thead>\n",
       "    <tr style=\"text-align: right;\">\n",
       "      <th></th>\n",
       "      <th>text</th>\n",
       "      <th>airline_sentiment</th>\n",
       "    </tr>\n",
       "  </thead>\n",
       "  <tbody>\n",
       "    <tr>\n",
       "      <th>0</th>\n",
       "      <td>@VirginAmerica What @dhepburn said.</td>\n",
       "      <td>1</td>\n",
       "    </tr>\n",
       "    <tr>\n",
       "      <th>1</th>\n",
       "      <td>@VirginAmerica plus you've added commercials t...</td>\n",
       "      <td>2</td>\n",
       "    </tr>\n",
       "    <tr>\n",
       "      <th>2</th>\n",
       "      <td>@VirginAmerica I didn't today... Must mean I n...</td>\n",
       "      <td>1</td>\n",
       "    </tr>\n",
       "    <tr>\n",
       "      <th>3</th>\n",
       "      <td>@VirginAmerica it's really aggressive to blast...</td>\n",
       "      <td>0</td>\n",
       "    </tr>\n",
       "    <tr>\n",
       "      <th>4</th>\n",
       "      <td>@VirginAmerica and it's a really big bad thing...</td>\n",
       "      <td>0</td>\n",
       "    </tr>\n",
       "    <tr>\n",
       "      <th>...</th>\n",
       "      <td>...</td>\n",
       "      <td>...</td>\n",
       "    </tr>\n",
       "    <tr>\n",
       "      <th>14635</th>\n",
       "      <td>@AmericanAir thank you we got on a different f...</td>\n",
       "      <td>2</td>\n",
       "    </tr>\n",
       "    <tr>\n",
       "      <th>14636</th>\n",
       "      <td>@AmericanAir leaving over 20 minutes Late Flig...</td>\n",
       "      <td>0</td>\n",
       "    </tr>\n",
       "    <tr>\n",
       "      <th>14637</th>\n",
       "      <td>@AmericanAir Please bring American Airlines to...</td>\n",
       "      <td>1</td>\n",
       "    </tr>\n",
       "    <tr>\n",
       "      <th>14638</th>\n",
       "      <td>@AmericanAir you have my money, you change my ...</td>\n",
       "      <td>0</td>\n",
       "    </tr>\n",
       "    <tr>\n",
       "      <th>14639</th>\n",
       "      <td>@AmericanAir we have 8 ppl so we need 2 know h...</td>\n",
       "      <td>1</td>\n",
       "    </tr>\n",
       "  </tbody>\n",
       "</table>\n",
       "<p>14640 rows × 2 columns</p>\n",
       "</div>"
      ],
      "text/plain": [
       "                                                    text  airline_sentiment\n",
       "0                    @VirginAmerica What @dhepburn said.                  1\n",
       "1      @VirginAmerica plus you've added commercials t...                  2\n",
       "2      @VirginAmerica I didn't today... Must mean I n...                  1\n",
       "3      @VirginAmerica it's really aggressive to blast...                  0\n",
       "4      @VirginAmerica and it's a really big bad thing...                  0\n",
       "...                                                  ...                ...\n",
       "14635  @AmericanAir thank you we got on a different f...                  2\n",
       "14636  @AmericanAir leaving over 20 minutes Late Flig...                  0\n",
       "14637  @AmericanAir Please bring American Airlines to...                  1\n",
       "14638  @AmericanAir you have my money, you change my ...                  0\n",
       "14639  @AmericanAir we have 8 ppl so we need 2 know h...                  1\n",
       "\n",
       "[14640 rows x 2 columns]"
      ]
     },
     "execution_count": 51,
     "metadata": {},
     "output_type": "execute_result"
    }
   ],
   "source": [
    "df = pd.read_csv(\"/Users/parrt/data/airline-tweets.csv\")\n",
    "df = df[['text','airline_sentiment']]\n",
    "df['airline_sentiment'] = df['airline_sentiment'].map({'negative':0, 'neutral':1, 'positive':2})\n",
    "df"
   ]
  },
  {
   "cell_type": "code",
   "execution_count": 55,
   "id": "1a3bd7bc-7200-4740-a984-8312c7d83354",
   "metadata": {},
   "outputs": [],
   "source": [
    "stops = set(stopwords.words(\"english\"))     \n",
    "\n",
    "def clean(text):\n",
    "    text = text.lower()\n",
    "    text = re.sub(r'^@[a-z]+', \"\", text) # delete @VirginAmerica at start\n",
    "    text = re.sub(r'[^a-z]+', \" \", text) # delete non-text\n",
    "    words = text.split(\" \")\n",
    "    words = [w.strip() for w in words if w not in stops]\n",
    "    return ' '.join(words)"
   ]
  },
  {
   "cell_type": "code",
   "execution_count": 56,
   "id": "b13e7ec8-2fdf-4ba2-a3a2-e061dbf11c26",
   "metadata": {},
   "outputs": [
    {
     "data": {
      "text/html": [
       "<div>\n",
       "<style scoped>\n",
       "    .dataframe tbody tr th:only-of-type {\n",
       "        vertical-align: middle;\n",
       "    }\n",
       "\n",
       "    .dataframe tbody tr th {\n",
       "        vertical-align: top;\n",
       "    }\n",
       "\n",
       "    .dataframe thead th {\n",
       "        text-align: right;\n",
       "    }\n",
       "</style>\n",
       "<table border=\"1\" class=\"dataframe\">\n",
       "  <thead>\n",
       "    <tr style=\"text-align: right;\">\n",
       "      <th></th>\n",
       "      <th>text</th>\n",
       "      <th>airline_sentiment</th>\n",
       "    </tr>\n",
       "  </thead>\n",
       "  <tbody>\n",
       "    <tr>\n",
       "      <th>0</th>\n",
       "      <td>dhepburn said</td>\n",
       "      <td>1</td>\n",
       "    </tr>\n",
       "    <tr>\n",
       "      <th>1</th>\n",
       "      <td>plus added commercials experience tacky</td>\n",
       "      <td>2</td>\n",
       "    </tr>\n",
       "    <tr>\n",
       "      <th>2</th>\n",
       "      <td>today must mean need take another trip</td>\n",
       "      <td>1</td>\n",
       "    </tr>\n",
       "    <tr>\n",
       "      <th>3</th>\n",
       "      <td>really aggressive blast obnoxious entertainme...</td>\n",
       "      <td>0</td>\n",
       "    </tr>\n",
       "    <tr>\n",
       "      <th>4</th>\n",
       "      <td>really big bad thing</td>\n",
       "      <td>0</td>\n",
       "    </tr>\n",
       "    <tr>\n",
       "      <th>...</th>\n",
       "      <td>...</td>\n",
       "      <td>...</td>\n",
       "    </tr>\n",
       "    <tr>\n",
       "      <th>14635</th>\n",
       "      <td>thank got different flight chicago</td>\n",
       "      <td>2</td>\n",
       "    </tr>\n",
       "    <tr>\n",
       "      <th>14636</th>\n",
       "      <td>leaving minutes late flight warnings communic...</td>\n",
       "      <td>0</td>\n",
       "    </tr>\n",
       "    <tr>\n",
       "      <th>14637</th>\n",
       "      <td>please bring american airlines blackberry</td>\n",
       "      <td>1</td>\n",
       "    </tr>\n",
       "    <tr>\n",
       "      <th>14638</th>\n",
       "      <td>money change flight answer phones suggestions...</td>\n",
       "      <td>0</td>\n",
       "    </tr>\n",
       "    <tr>\n",
       "      <th>14639</th>\n",
       "      <td>ppl need know many seats next flight plz put ...</td>\n",
       "      <td>1</td>\n",
       "    </tr>\n",
       "  </tbody>\n",
       "</table>\n",
       "<p>14640 rows × 2 columns</p>\n",
       "</div>"
      ],
      "text/plain": [
       "                                                    text  airline_sentiment\n",
       "0                                         dhepburn said                   1\n",
       "1               plus added commercials experience tacky                   2\n",
       "2                today must mean need take another trip                   1\n",
       "3       really aggressive blast obnoxious entertainme...                  0\n",
       "4                                   really big bad thing                  0\n",
       "...                                                  ...                ...\n",
       "14635                thank got different flight chicago                   2\n",
       "14636   leaving minutes late flight warnings communic...                  0\n",
       "14637         please bring american airlines blackberry                   1\n",
       "14638   money change flight answer phones suggestions...                  0\n",
       "14639   ppl need know many seats next flight plz put ...                  1\n",
       "\n",
       "[14640 rows x 2 columns]"
      ]
     },
     "execution_count": 56,
     "metadata": {},
     "output_type": "execute_result"
    }
   ],
   "source": [
    "df['text'] = df['text'].apply(clean)\n",
    "df"
   ]
  },
  {
   "cell_type": "code",
   "execution_count": 72,
   "id": "33f2f15d-aa94-43e3-a428-b4e99b2140bb",
   "metadata": {},
   "outputs": [
    {
     "data": {
      "text/html": [
       "<div>\n",
       "<style scoped>\n",
       "    .dataframe tbody tr th:only-of-type {\n",
       "        vertical-align: middle;\n",
       "    }\n",
       "\n",
       "    .dataframe tbody tr th {\n",
       "        vertical-align: top;\n",
       "    }\n",
       "\n",
       "    .dataframe thead th {\n",
       "        text-align: right;\n",
       "    }\n",
       "</style>\n",
       "<table border=\"1\" class=\"dataframe\">\n",
       "  <thead>\n",
       "    <tr style=\"text-align: right;\">\n",
       "      <th></th>\n",
       "      <th>text</th>\n",
       "      <th>airline_sentiment</th>\n",
       "      <th>words</th>\n",
       "    </tr>\n",
       "  </thead>\n",
       "  <tbody>\n",
       "    <tr>\n",
       "      <th>0</th>\n",
       "      <td>dhepburn said</td>\n",
       "      <td>1</td>\n",
       "      <td>[dhepburn, said]</td>\n",
       "    </tr>\n",
       "    <tr>\n",
       "      <th>1</th>\n",
       "      <td>plus added commercials experience tacky</td>\n",
       "      <td>2</td>\n",
       "      <td>[plus, added, commercials, experience, tacky]</td>\n",
       "    </tr>\n",
       "    <tr>\n",
       "      <th>2</th>\n",
       "      <td>today must mean need take another trip</td>\n",
       "      <td>1</td>\n",
       "      <td>[today, must, mean, need, take, another, trip]</td>\n",
       "    </tr>\n",
       "    <tr>\n",
       "      <th>3</th>\n",
       "      <td>really aggressive blast obnoxious entertainme...</td>\n",
       "      <td>0</td>\n",
       "      <td>[really, aggressive, blast, obnoxious, enterta...</td>\n",
       "    </tr>\n",
       "    <tr>\n",
       "      <th>4</th>\n",
       "      <td>really big bad thing</td>\n",
       "      <td>0</td>\n",
       "      <td>[really, big, bad, thing]</td>\n",
       "    </tr>\n",
       "    <tr>\n",
       "      <th>...</th>\n",
       "      <td>...</td>\n",
       "      <td>...</td>\n",
       "      <td>...</td>\n",
       "    </tr>\n",
       "    <tr>\n",
       "      <th>14635</th>\n",
       "      <td>thank got different flight chicago</td>\n",
       "      <td>2</td>\n",
       "      <td>[thank, got, different, flight, chicago]</td>\n",
       "    </tr>\n",
       "    <tr>\n",
       "      <th>14636</th>\n",
       "      <td>leaving minutes late flight warnings communic...</td>\n",
       "      <td>0</td>\n",
       "      <td>[leaving, minutes, late, flight, warnings, com...</td>\n",
       "    </tr>\n",
       "    <tr>\n",
       "      <th>14637</th>\n",
       "      <td>please bring american airlines blackberry</td>\n",
       "      <td>1</td>\n",
       "      <td>[please, bring, american, airlines, blackberry]</td>\n",
       "    </tr>\n",
       "    <tr>\n",
       "      <th>14638</th>\n",
       "      <td>money change flight answer phones suggestions...</td>\n",
       "      <td>0</td>\n",
       "      <td>[money, change, flight, answer, phones, sugges...</td>\n",
       "    </tr>\n",
       "    <tr>\n",
       "      <th>14639</th>\n",
       "      <td>ppl need know many seats next flight plz put ...</td>\n",
       "      <td>1</td>\n",
       "      <td>[ppl, need, know, many, seats, next, flight, p...</td>\n",
       "    </tr>\n",
       "  </tbody>\n",
       "</table>\n",
       "<p>14640 rows × 3 columns</p>\n",
       "</div>"
      ],
      "text/plain": [
       "                                                    text  airline_sentiment  \\\n",
       "0                                         dhepburn said                   1   \n",
       "1               plus added commercials experience tacky                   2   \n",
       "2                today must mean need take another trip                   1   \n",
       "3       really aggressive blast obnoxious entertainme...                  0   \n",
       "4                                   really big bad thing                  0   \n",
       "...                                                  ...                ...   \n",
       "14635                thank got different flight chicago                   2   \n",
       "14636   leaving minutes late flight warnings communic...                  0   \n",
       "14637         please bring american airlines blackberry                   1   \n",
       "14638   money change flight answer phones suggestions...                  0   \n",
       "14639   ppl need know many seats next flight plz put ...                  1   \n",
       "\n",
       "                                                   words  \n",
       "0                                       [dhepburn, said]  \n",
       "1          [plus, added, commercials, experience, tacky]  \n",
       "2         [today, must, mean, need, take, another, trip]  \n",
       "3      [really, aggressive, blast, obnoxious, enterta...  \n",
       "4                              [really, big, bad, thing]  \n",
       "...                                                  ...  \n",
       "14635           [thank, got, different, flight, chicago]  \n",
       "14636  [leaving, minutes, late, flight, warnings, com...  \n",
       "14637    [please, bring, american, airlines, blackberry]  \n",
       "14638  [money, change, flight, answer, phones, sugges...  \n",
       "14639  [ppl, need, know, many, seats, next, flight, p...  \n",
       "\n",
       "[14640 rows x 3 columns]"
      ]
     },
     "execution_count": 72,
     "metadata": {},
     "output_type": "execute_result"
    }
   ],
   "source": [
    "df['words'] = df['text'].apply(str.split)\n",
    "df"
   ]
  },
  {
   "cell_type": "code",
   "execution_count": 81,
   "id": "e1d8cf08-ec5f-485d-a559-9e350b176b71",
   "metadata": {},
   "outputs": [
    {
     "data": {
      "text/plain": [
       "22"
      ]
     },
     "execution_count": 81,
     "metadata": {},
     "output_type": "execute_result"
    }
   ],
   "source": [
    "max_len = df['words'].apply(len).max() # max num words in a tweet\n",
    "max_len"
   ]
  },
  {
   "cell_type": "code",
   "execution_count": 82,
   "id": "2a01d4ae-5f30-4202-bf3f-05efb7b29818",
   "metadata": {},
   "outputs": [],
   "source": [
    "vocab = sorted(set(' '.join(df['text'].values).split()))\n",
    "vocab[0:20]\n",
    "wtoi = {w:i for i,w in enumerate(vocab)}"
   ]
  },
  {
   "cell_type": "code",
   "execution_count": 114,
   "id": "4dae7b89-0132-41e0-b714-71be01f67e87",
   "metadata": {},
   "outputs": [],
   "source": [
    "X = torch.zeros(size=[len(df),max_len])\n",
    "for i,tweet in enumerate(df['words']):\n",
    "    word_indexes = [wtoi[w] for w in tweet]\n",
    "    pad = nn.ConstantPad1d((0,max_len-len(word_indexes)), 0)\n",
    "    X[i,:] = pad(torch.tensor(word_indexes))"
   ]
  },
  {
   "cell_type": "code",
   "execution_count": 115,
   "id": "0ce5beed-51b6-420f-9eef-c464b6156314",
   "metadata": {},
   "outputs": [
    {
     "data": {
      "text/plain": [
       "tensor([[ 2998., 10106.,     0.,  ...,     0.,     0.,     0.],\n",
       "        [ 8827.,   140.,  2200.,  ...,     0.,     0.,     0.],\n",
       "        [11802.,  7616.,  7189.,  ...,     0.,     0.,     0.],\n",
       "        ...,\n",
       "        [ 8799.,  1422.,   410.,  ...,     0.,     0.,     0.],\n",
       "        [ 7485.,  1841.,  4223.,  ...,     0.,     0.,     0.],\n",
       "        [ 8927.,  7730.,  6397.,  ...,     0.,     0.,     0.]])"
      ]
     },
     "execution_count": 115,
     "metadata": {},
     "output_type": "execute_result"
    }
   ],
   "source": [
    "X"
   ]
  },
  {
   "cell_type": "code",
   "execution_count": 29,
   "id": "418a03a8-e9bc-436d-85d8-d755896a4a32",
   "metadata": {},
   "outputs": [],
   "source": [
    "X = X_train, X_test, Y_train, Y_test = train_test_split(X, Y, test_size=0.2)"
   ]
  },
  {
   "cell_type": "code",
   "execution_count": 30,
   "id": "1ff7098a-d818-4807-a4c3-c34483c269ad",
   "metadata": {},
   "outputs": [
    {
     "name": "stdout",
     "output_type": "stream",
     "text": [
      "693 training records, 10 embedding size, 64 target classes, state is 300-vector\n"
     ]
    }
   ],
   "source": [
    "n = len(X_train)\n",
    "char_embed_sz = 10\n",
    "nhidden = 300\n",
    "nclasses = len(vocab) # char output vocab\n",
    "\n",
    "print(f\"{n:,d} training records, {char_embed_sz} embedding size, {nclasses} target classes, state is {nhidden}-vector\")"
   ]
  },
  {
   "cell_type": "code",
   "execution_count": 61,
   "id": "5b520bb1-bad7-4b81-8dc8-b61b6b227531",
   "metadata": {},
   "outputs": [],
   "source": [
    "class Embedding:\n",
    "    def __init__(self, input_size, embed_sz):\n",
    "        self.E = torch.randn(embed_sz, input_size, device=device, dtype=torch.float64, requires_grad=True) # embedding\n",
    "        self.input_size = input_size\n",
    "        self.embed_sz = embed_sz\n",
    "    def parameters(self): return [self.E]\n",
    "    def __call__(self, x):\n",
    "        if isinstance(x, int):\n",
    "            return self.E[:,x].reshape(self.embed_sz, 1)\n",
    "        # column E[i] is the embedding for char index i. same as multiple E.mm(onehot(i))\n",
    "        return self.E[:,x]"
   ]
  },
  {
   "cell_type": "code",
   "execution_count": 62,
   "id": "ea15d2a0-e354-424f-a36d-008b9df9bc40",
   "metadata": {},
   "outputs": [],
   "source": [
    "class Linear:\n",
    "    def __init__(self, input_size, output_size):\n",
    "        self.V = torch.randn(output_size,  input_size, device=device, dtype=torch.float64, requires_grad=True)\n",
    "        self.by = torch.zeros(output_size, 1,          device=device, dtype=torch.float64, requires_grad=True)\n",
    "    def parameters(self): return [self.V, self.by]\n",
    "    def __call__(self, h):\n",
    "        o = self.V@h + self.by\n",
    "        o = o.T # make it input_size x output_size\n",
    "        return o"
   ]
  },
  {
   "cell_type": "code",
   "execution_count": null,
   "id": "3cfd070f-9f04-4e21-b5f9-122b287ed4f8",
   "metadata": {},
   "outputs": [],
   "source": [
    "self.emby = Embedding(output_sz, output_embed_sz)\n",
    "self.lin = Linear(nhidden, output_sz)\n"
   ]
  }
 ],
 "metadata": {
  "kernelspec": {
   "display_name": "Python 3",
   "language": "python",
   "name": "python3"
  },
  "language_info": {
   "codemirror_mode": {
    "name": "ipython",
    "version": 3
   },
   "file_extension": ".py",
   "mimetype": "text/x-python",
   "name": "python",
   "nbconvert_exporter": "python",
   "pygments_lexer": "ipython3",
   "version": "3.8.8"
  }
 },
 "nbformat": 4,
 "nbformat_minor": 5
}
