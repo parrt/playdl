{
 "cells": [
  {
   "cell_type": "markdown",
   "id": "297b3b6a-7d58-448e-a2a6-9ca983b25faf",
   "metadata": {},
   "source": [
    "# FAKE DATA: Sentiment prediction with self-attention\n",
    "\n",
    "Get encoding mechanism working."
   ]
  },
  {
   "cell_type": "code",
   "execution_count": 1,
   "id": "e03c6186-e632-462f-81d9-27df9d635a23",
   "metadata": {},
   "outputs": [
    {
     "data": {
      "text/plain": [
       "device(type='cpu')"
      ]
     },
     "execution_count": 1,
     "metadata": {},
     "output_type": "execute_result"
    }
   ],
   "source": [
    "import pandas as pd\n",
    "import numpy as np\n",
    "import math\n",
    "import torch\n",
    "import torch.nn as nn\n",
    "from torch.utils.data import Dataset, DataLoader, TensorDataset\n",
    "from torch.nn.utils.rnn import pad_sequence\n",
    "import torch.nn.functional as F\n",
    "from sklearn.metrics import accuracy_score\n",
    "import matplotlib.pyplot as plt\n",
    "from sklearn.model_selection import train_test_split\n",
    "from sklearn.ensemble import RandomForestClassifier\n",
    "np.set_printoptions(precision=2, suppress=True, linewidth=3000, threshold=20000)\n",
    "from typing import Sequence\n",
    "import nltk\n",
    "from nltk.corpus import stopwords\n",
    "import re\n",
    "import string\n",
    "import time\n",
    "import csv\n",
    "\n",
    "dtype = torch.float\n",
    "device = torch.device('cuda:0' if torch.cuda.is_available() else 'cpu')\n",
    "device"
   ]
  },
  {
   "cell_type": "markdown",
   "id": "45adeb3c-94c9-4d78-918a-5a8f36d1bedd",
   "metadata": {},
   "source": [
    "## Fake glove data"
   ]
  },
  {
   "cell_type": "code",
   "execution_count": 2,
   "id": "9bf1fd6b-48ee-43f7-99c5-5b1c6f85fb2a",
   "metadata": {},
   "outputs": [],
   "source": [
    "df_glove = pd.DataFrame.from_records(\n",
    "    [\n",
    "        ['the', 0, 1, 2, 3],\n",
    "        ['cat', 9, 2, 1, 4],\n",
    "        ['and', 7, 0, 5, 5],\n",
    "        ['dog', 6, 4, 7, 8]\n",
    "    ]\n",
    ")"
   ]
  },
  {
   "cell_type": "code",
   "execution_count": 3,
   "id": "a0d0900f-97c7-4deb-bdb6-eb969e0bdf05",
   "metadata": {},
   "outputs": [],
   "source": [
    "def load_glove(df_glove):\n",
    "    itow = [None] + list(df_glove.iloc[:,0].values) # map word index to word; index 0 for unknown word\n",
    "    wtoi = {w:i for i,w in enumerate(itow)}         # map word to word index; 0 is invalid, 1 is first valid index\n",
    "    vocab = set(itow)\n",
    "\n",
    "    glove = df_glove.iloc[:,1:].values              # row glove[i,:] is word vector for word index i\n",
    "    glove = np.insert(glove, 0, values=0, axis=0)   # make sure row 0 is for invalid / unknown / missing word\n",
    "    return itow, wtoi, vocab, glove"
   ]
  },
  {
   "cell_type": "code",
   "execution_count": 4,
   "id": "0f723ec8-4e78-4c54-8a92-756c989e428e",
   "metadata": {},
   "outputs": [
    {
     "data": {
      "text/plain": [
       "([None, 'the', 'cat', 'and', 'dog'],\n",
       " {None: 0, 'the': 1, 'cat': 2, 'and': 3, 'dog': 4},\n",
       " {None, 'and', 'cat', 'dog', 'the'},\n",
       " array([[0, 0, 0, 0],\n",
       "        [0, 1, 2, 3],\n",
       "        [9, 2, 1, 4],\n",
       "        [7, 0, 5, 5],\n",
       "        [6, 4, 7, 8]]))"
      ]
     },
     "execution_count": 4,
     "metadata": {},
     "output_type": "execute_result"
    }
   ],
   "source": [
    "itow, wtoi, vocab, glove = load_glove(df_glove)\n",
    "itow, wtoi, vocab, glove"
   ]
  },
  {
   "cell_type": "code",
   "execution_count": 30,
   "id": "cc524d60-c0ba-41d9-985a-8e30e1cd81d8",
   "metadata": {},
   "outputs": [
    {
     "data": {
      "text/plain": [
       "4"
      ]
     },
     "execution_count": 30,
     "metadata": {},
     "output_type": "execute_result"
    }
   ],
   "source": [
    "d = glove.shape[1] # word vec len\n",
    "d"
   ]
  },
  {
   "cell_type": "markdown",
   "id": "cbd3392e-59e7-4047-86d4-6f458b0f0c75",
   "metadata": {},
   "source": [
    "## Fake tweet data"
   ]
  },
  {
   "cell_type": "code",
   "execution_count": 5,
   "id": "680aa6d2-7a96-4ce1-b040-ded2a10a3469",
   "metadata": {},
   "outputs": [
    {
     "data": {
      "text/html": [
       "<div>\n",
       "<style scoped>\n",
       "    .dataframe tbody tr th:only-of-type {\n",
       "        vertical-align: middle;\n",
       "    }\n",
       "\n",
       "    .dataframe tbody tr th {\n",
       "        vertical-align: top;\n",
       "    }\n",
       "\n",
       "    .dataframe thead th {\n",
       "        text-align: right;\n",
       "    }\n",
       "</style>\n",
       "<table border=\"1\" class=\"dataframe\">\n",
       "  <thead>\n",
       "    <tr style=\"text-align: right;\">\n",
       "      <th></th>\n",
       "      <th>text</th>\n",
       "      <th>sentiment</th>\n",
       "    </tr>\n",
       "  </thead>\n",
       "  <tbody>\n",
       "    <tr>\n",
       "      <th>0</th>\n",
       "      <td>the cat and dog</td>\n",
       "      <td>0</td>\n",
       "    </tr>\n",
       "    <tr>\n",
       "      <th>1</th>\n",
       "      <td>cat cat</td>\n",
       "      <td>1</td>\n",
       "    </tr>\n",
       "    <tr>\n",
       "      <th>2</th>\n",
       "      <td>the dog and the cat</td>\n",
       "      <td>1</td>\n",
       "    </tr>\n",
       "  </tbody>\n",
       "</table>\n",
       "</div>"
      ],
      "text/plain": [
       "                  text  sentiment\n",
       "0      the cat and dog          0\n",
       "1              cat cat          1\n",
       "2  the dog and the cat          1"
      ]
     },
     "execution_count": 5,
     "metadata": {},
     "output_type": "execute_result"
    }
   ],
   "source": [
    "df_tweets = pd.DataFrame.from_records(\n",
    "    [\n",
    "        ['the cat and dog', 0],\n",
    "        ['cat cat', 1],\n",
    "        ['the dog and the cat', 1]\n",
    "    ],\n",
    "    columns = ['text', 'sentiment']\n",
    ")\n",
    "df_tweets"
   ]
  },
  {
   "cell_type": "code",
   "execution_count": 6,
   "id": "f694c808-4f4a-4a19-b09d-95581d2741e3",
   "metadata": {},
   "outputs": [
    {
     "data": {
      "text/html": [
       "<div>\n",
       "<style scoped>\n",
       "    .dataframe tbody tr th:only-of-type {\n",
       "        vertical-align: middle;\n",
       "    }\n",
       "\n",
       "    .dataframe tbody tr th {\n",
       "        vertical-align: top;\n",
       "    }\n",
       "\n",
       "    .dataframe thead th {\n",
       "        text-align: right;\n",
       "    }\n",
       "</style>\n",
       "<table border=\"1\" class=\"dataframe\">\n",
       "  <thead>\n",
       "    <tr style=\"text-align: right;\">\n",
       "      <th></th>\n",
       "      <th>text</th>\n",
       "      <th>sentiment</th>\n",
       "    </tr>\n",
       "  </thead>\n",
       "  <tbody>\n",
       "    <tr>\n",
       "      <th>0</th>\n",
       "      <td>the cat and dog</td>\n",
       "      <td>0</td>\n",
       "    </tr>\n",
       "    <tr>\n",
       "      <th>1</th>\n",
       "      <td>cat cat</td>\n",
       "      <td>1</td>\n",
       "    </tr>\n",
       "    <tr>\n",
       "      <th>2</th>\n",
       "      <td>the dog and the cat</td>\n",
       "      <td>1</td>\n",
       "    </tr>\n",
       "  </tbody>\n",
       "</table>\n",
       "</div>"
      ],
      "text/plain": [
       "                  text  sentiment\n",
       "0      the cat and dog          0\n",
       "1              cat cat          1\n",
       "2  the dog and the cat          1"
      ]
     },
     "execution_count": 6,
     "metadata": {},
     "output_type": "execute_result"
    }
   ],
   "source": [
    "def clean(s):\n",
    "    s = s.lower()\n",
    "    return ' '.join([w for w in s.split() if w in vocab])\n",
    "\n",
    "df_tweets['text'] = df_tweets['text'].apply(clean)\n",
    "df_tweets.head()"
   ]
  },
  {
   "cell_type": "code",
   "execution_count": 7,
   "id": "647f9245-8d53-4d6d-a43c-7298061e48a3",
   "metadata": {},
   "outputs": [
    {
     "data": {
      "text/plain": [
       "5"
      ]
     },
     "execution_count": 7,
     "metadata": {},
     "output_type": "execute_result"
    }
   ],
   "source": [
    "max_len = df_tweets['text'].apply(str.split).apply(len).max() # max num words in a tweet\n",
    "max_len"
   ]
  },
  {
   "cell_type": "markdown",
   "id": "97c3b0ff-d8c7-40ea-932b-59b75bb92a72",
   "metadata": {},
   "source": [
    "## Encode tweets as sequence of word indexes\n",
    "\n",
    "Create matrix where X[i,j] is tweet i and word j within that tweet"
   ]
  },
  {
   "cell_type": "code",
   "execution_count": 8,
   "id": "ce940a20-283a-44af-a030-3480d6b30e85",
   "metadata": {},
   "outputs": [],
   "source": [
    "def encode_words(df):\n",
    "    X = torch.zeros(size=[len(df),max_len], dtype=int)\n",
    "    for i,tweet in enumerate(df['text'].apply(str.split)):\n",
    "        word_indexes = [wtoi[w] for w in tweet]\n",
    "        pad = nn.ConstantPad1d((0,max_len-len(word_indexes)), 0) # pad on right\n",
    "        X[i,:] = pad(torch.tensor(word_indexes))\n",
    "    return X"
   ]
  },
  {
   "cell_type": "code",
   "execution_count": 9,
   "id": "58b138d4-e021-430a-85a1-c27490ae92b7",
   "metadata": {},
   "outputs": [
    {
     "data": {
      "text/plain": [
       "tensor([[1, 2, 3, 4, 0],\n",
       "        [2, 2, 0, 0, 0],\n",
       "        [1, 4, 3, 1, 2]])"
      ]
     },
     "execution_count": 9,
     "metadata": {},
     "output_type": "execute_result"
    }
   ],
   "source": [
    "X = encode_words(df_tweets)\n",
    "X"
   ]
  },
  {
   "cell_type": "code",
   "execution_count": 10,
   "id": "3d768235-6136-41c6-8291-3ad48bac8a99",
   "metadata": {},
   "outputs": [],
   "source": [
    "nclasses = len(df_tweets['sentiment'].unique())\n",
    "y = df_tweets['sentiment']"
   ]
  },
  {
   "cell_type": "markdown",
   "id": "496fbef5-9a44-4c7e-a5d1-aa7de583a951",
   "metadata": {},
   "source": [
    "## Create centroid word vector per tweet"
   ]
  },
  {
   "cell_type": "code",
   "execution_count": 41,
   "id": "4ff8a9c8-26f1-4e6a-b619-f8f4aa3a56c9",
   "metadata": {},
   "outputs": [],
   "source": [
    "def centroids(X):\n",
    "    X_encoded = torch.zeros(size=[X.shape[0],d])\n",
    "    for i,x in enumerate(X):\n",
    "        wvecs = [glove[wi,:] for wi in x if wi>0]\n",
    "        nw = len(wvecs)\n",
    "        wvecs = torch.tensor(wvecs)\n",
    "#         print(wvecs)\n",
    "        vsum = torch.sum(wvecs, axis=0)\n",
    "#         print(vsum)\n",
    "        centroid = torch.sum(wvecs, axis=0) / nw\n",
    "#         print(centroid)\n",
    "        X_encoded[i,:] = centroid\n",
    "    return X_encoded"
   ]
  },
  {
   "cell_type": "code",
   "execution_count": 42,
   "id": "5aaa5e02-8594-4e09-b7e7-923026980a0e",
   "metadata": {},
   "outputs": [
    {
     "data": {
      "text/plain": [
       "tensor([[5.5000, 1.7500, 3.7500, 5.0000],\n",
       "        [9.0000, 2.0000, 1.0000, 4.0000],\n",
       "        [4.4000, 1.6000, 3.4000, 4.6000]])"
      ]
     },
     "execution_count": 42,
     "metadata": {},
     "output_type": "execute_result"
    }
   ],
   "source": [
    "X_encoded = centroids(X)\n",
    "X_encoded"
   ]
  },
  {
   "cell_type": "code",
   "execution_count": null,
   "id": "9f43429b-ed86-444f-aeb4-1b523d3cfe9a",
   "metadata": {},
   "outputs": [],
   "source": []
  }
 ],
 "metadata": {
  "kernelspec": {
   "display_name": "Python 3",
   "language": "python",
   "name": "python3"
  },
  "language_info": {
   "codemirror_mode": {
    "name": "ipython",
    "version": 3
   },
   "file_extension": ".py",
   "mimetype": "text/x-python",
   "name": "python",
   "nbconvert_exporter": "python",
   "pygments_lexer": "ipython3",
   "version": "3.8.8"
  }
 },
 "nbformat": 4,
 "nbformat_minor": 5
}
